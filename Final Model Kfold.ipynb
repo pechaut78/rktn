{
 "cells": [
  {
   "cell_type": "markdown",
   "metadata": {},
   "source": [
    "Modele final: prediction utilisant Designation et Descriptions Camemeber + VIT"
   ]
  },
  {
   "cell_type": "code",
   "execution_count": 1,
   "metadata": {},
   "outputs": [
    {
     "name": "stderr",
     "output_type": "stream",
     "text": [
      "2023-09-27 22:11:29.898121: I tensorflow/core/util/port.cc:111] oneDNN custom operations are on. You may see slightly different numerical results due to floating-point round-off errors from different computation orders. To turn them off, set the environment variable `TF_ENABLE_ONEDNN_OPTS=0`.\n",
      "2023-09-27 22:11:29.926138: E external/local_xla/xla/stream_executor/cuda/cuda_dnn.cc:9511] Unable to register cuDNN factory: Attempting to register factory for plugin cuDNN when one has already been registered\n",
      "2023-09-27 22:11:29.926159: E external/local_xla/xla/stream_executor/cuda/cuda_fft.cc:609] Unable to register cuFFT factory: Attempting to register factory for plugin cuFFT when one has already been registered\n",
      "2023-09-27 22:11:29.926173: E external/local_xla/xla/stream_executor/cuda/cuda_blas.cc:1518] Unable to register cuBLAS factory: Attempting to register factory for plugin cuBLAS when one has already been registered\n",
      "2023-09-27 22:11:29.930930: I tensorflow/core/platform/cpu_feature_guard.cc:182] This TensorFlow binary is optimized to use available CPU instructions in performance-critical operations.\n",
      "To enable the following instructions: AVX2 AVX512F AVX512_VNNI FMA, in other operations, rebuild TensorFlow with the appropriate compiler flags.\n",
      "2023-09-27 22:11:30.468175: W tensorflow/compiler/tf2tensorrt/utils/py_utils.cc:38] TF-TRT Warning: Could not find TensorRT\n"
     ]
    }
   ],
   "source": [
    "import os\n",
    "\n",
    "import importlib\n",
    "\n",
    "import RktnChallenge.RktnModel\n",
    "importlib.reload(RktnChallenge.RktnModel)\n",
    "from RktnChallenge.RktnModel import ModelTrainer\n",
    "\n",
    "from tensorflow.keras import Sequential\n",
    "from tensorflow.keras.layers import Dense, Dropout, Flatten, Conv2D, GlobalAveragePooling2D, MaxPooling2D\n",
    "from tensorflow.keras.optimizers import Adam,Adagrad\n",
    "import numpy as np\n",
    "import ast"
   ]
  },
  {
   "cell_type": "code",
   "execution_count": 2,
   "metadata": {},
   "outputs": [],
   "source": [
    "\n",
    "# PARAMS  de base\n",
    "PATH = \"images/crop224/\"\n",
    "img_size = 224\n",
    "depth = 3\n",
    "\n",
    "from RktnChallenge.RktnModel import ModelTrainer\n",
    "\n",
    "trainer = ModelTrainer(\"embeddings_final.csv\",PATH)\n",
    "\n"
   ]
  },
  {
   "cell_type": "code",
   "execution_count": 3,
   "metadata": {},
   "outputs": [],
   "source": [
    "\n",
    "list_tags = trainer.data.prdtypecode.unique().tolist()\n",
    "num_categories = len(list_tags)\n",
    "\n",
    "\n",
    "\n",
    "\n",
    "\n",
    "X_data = trainer.data[[\"embeddings_desi\",\"embeddings_desc\",\"embedding_vit\",\"designation_length_normalized\",\"description_length_normalized\",\"embeddings_desi_Flaubert\"]]\n",
    "\n",
    "def convert_string_to_nparray(s):    \n",
    "    # Supprime les caractères non désirés et divise la chaîne en une liste de nombres\n",
    "    numbers = [float(x) for x in s.replace(\"[\", \"\").replace(\"]\", \"\").split()]\n",
    "    return np.array(numbers)\n",
    "def translate_string_to_array(s):\n",
    "    liste_python = ast.literal_eval(s)\n",
    "    return np.array(liste_python)\n",
    "\n",
    "X_data.loc[:, 'embeddings_desc'] = X_data['embeddings_desc'].apply(convert_string_to_nparray)\n",
    "X_data.loc[:, 'embeddings_desi'] = X_data['embeddings_desi'].apply(convert_string_to_nparray)\n",
    "X_data.loc[:, 'embeddings_desi_Flaubert'] = X_data['embeddings_desi_Flaubert'].apply(convert_string_to_nparray)\n",
    "\n",
    "\n",
    "X_data.loc[:, 'embedding_vit'] = X_data['embedding_vit'].apply(translate_string_to_array)\n",
    "\n",
    "y = trainer.encodeLabel(\"prdtypecode\")\n",
    "label_size = trainer.getLabelSize()\n"
   ]
  },
  {
   "cell_type": "code",
   "execution_count": 4,
   "metadata": {},
   "outputs": [],
   "source": [
    "\n",
    "from sklearn.model_selection import train_test_split\n",
    "\n",
    "X_train, X_test, y_train, y_test = train_test_split(X_data, y, test_size = 0.20, random_state = 42)\n",
    "\n",
    "X1_train = X_train[\"embeddings_desi\"].values\n",
    "X1_train = np.stack(X1_train).astype(np.float32)\n",
    "X2_train = X_train[\"embeddings_desc\"].values\n",
    "X2_train = np.stack(X2_train).astype(np.float32)\n",
    "X3_train = X_train[\"embedding_vit\"].values\n",
    "X3_train = np.stack(X3_train).astype(np.float32)\n",
    "X4_train = X_train[\"designation_length_normalized\"].values\n",
    "X5_train = X_train[\"description_length_normalized\"].values\n",
    "X6_train = X_train[\"embeddings_desi_Flaubert\"].values\n",
    "X6_train = np.stack(X6_train).astype(np.float32)\n",
    "\n",
    "\n",
    "\n",
    "\n",
    "\n",
    "X1_test = X_test[\"embeddings_desi\"].values\n",
    "X1_test = np.stack(X1_test).astype(np.float32)\n",
    "X2_test = X_test[\"embeddings_desc\"].values\n",
    "X2_test = np.stack(X2_test).astype(np.float32)\n",
    "X3_test = X_test[\"embedding_vit\"].values\n",
    "X3_test = np.stack(X3_test).astype(np.float32)\n",
    "X4_test = X_test[\"designation_length_normalized\"].values\n",
    "X5_test = X_test[\"description_length_normalized\"].values\n",
    "X6_test = X_test[\"embeddings_desi_Flaubert\"].values\n",
    "X6_test = np.stack(X6_test).astype(np.float32)\n",
    "\n",
    "\n",
    "#del X_data\n",
    "del X_test\n",
    "del X_train"
   ]
  },
  {
   "cell_type": "code",
   "execution_count": 5,
   "metadata": {},
   "outputs": [],
   "source": [
    "import tensorflow as tf\n",
    "from tensorflow.keras import backend as K\n",
    "\n",
    "def f1_weighted(true, pred):  \n",
    "    # Classes\n",
    "    classes = K.arange(0, 27) \n",
    "    true = K.one_hot(K.cast(true, 'int32'), 27)\n",
    "    \n",
    "    # Calcule les TP, FP, FN pour chaque classe\n",
    "    tp = K.dot(K.transpose(true), K.round(pred))\n",
    "    fp = K.dot(K.transpose(1-true), K.round(pred))\n",
    "    fn = K.dot(K.transpose(true), 1-K.round(pred))\n",
    "\n",
    "    # Calcule le score F1 pour chaque classe\n",
    "    p = tp / (tp + fp + K.epsilon())\n",
    "    r = tp / (tp + fn + K.epsilon())\n",
    "    f1 = 2*p*r / (p+r+K.epsilon())\n",
    "\n",
    "    # Calculez le score F1 moyen pondéré\n",
    "    weighted_f1 = K.sum(f1 * K.sum(true, axis=0) / K.sum(true))\n",
    "    return weighted_f1\n"
   ]
  },
  {
   "cell_type": "code",
   "execution_count": 6,
   "metadata": {},
   "outputs": [
    {
     "name": "stderr",
     "output_type": "stream",
     "text": [
      "2023-09-26 20:36:35.627534: I external/local_xla/xla/stream_executor/cuda/cuda_gpu_executor.cc:885] could not open file to read NUMA node: /sys/bus/pci/devices/0000:02:00.0/numa_node\n",
      "Your kernel may have been built without NUMA support.\n",
      "2023-09-26 20:36:35.640435: I external/local_xla/xla/stream_executor/cuda/cuda_gpu_executor.cc:885] could not open file to read NUMA node: /sys/bus/pci/devices/0000:02:00.0/numa_node\n",
      "Your kernel may have been built without NUMA support.\n",
      "2023-09-26 20:36:35.640647: I external/local_xla/xla/stream_executor/cuda/cuda_gpu_executor.cc:885] could not open file to read NUMA node: /sys/bus/pci/devices/0000:02:00.0/numa_node\n",
      "Your kernel may have been built without NUMA support.\n"
     ]
    },
    {
     "name": "stdout",
     "output_type": "stream",
     "text": [
      "Model: \"model\"\n",
      "__________________________________________________________________________________________________\n",
      " Layer (type)                Output Shape                 Param #   Connected to                  \n",
      "==================================================================================================\n",
      " input_1 (InputLayer)        [(None, 768)]                0         []                            \n",
      "                                                                                                  \n",
      " input_2 (InputLayer)        [(None, 768)]                0         []                            \n",
      "                                                                                                  \n",
      " input_3 (InputLayer)        [(None, 768)]                0         []                            \n",
      "                                                                                                  \n",
      " input_4 (InputLayer)        [(None, 1)]                  0         []                            \n",
      "                                                                                                  \n",
      " input_5 (InputLayer)        [(None, 1)]                  0         []                            \n",
      "                                                                                                  \n",
      " input_6 (InputLayer)        [(None, 768)]                0         []                            \n",
      "                                                                                                  \n",
      " concatenate (Concatenate)   (None, 3074)                 0         ['input_1[0][0]',             \n",
      "                                                                     'input_2[0][0]',             \n",
      "                                                                     'input_3[0][0]',             \n",
      "                                                                     'input_4[0][0]',             \n",
      "                                                                     'input_5[0][0]',             \n",
      "                                                                     'input_6[0][0]']             \n",
      "                                                                                                  \n",
      " dense (Dense)               (None, 1024)                 3148800   ['concatenate[0][0]']         \n",
      "                                                                                                  \n",
      " dropout (Dropout)           (None, 1024)                 0         ['dense[0][0]']               \n",
      "                                                                                                  \n",
      " dense_1 (Dense)             (None, 512)                  524800    ['dropout[0][0]']             \n",
      "                                                                                                  \n",
      " dropout_1 (Dropout)         (None, 512)                  0         ['dense_1[0][0]']             \n",
      "                                                                                                  \n",
      " dense_2 (Dense)             (None, 256)                  131328    ['dropout_1[0][0]']           \n",
      "                                                                                                  \n",
      " dense_3 (Dense)             (None, 27)                   6939      ['dense_2[0][0]']             \n",
      "                                                                                                  \n",
      "==================================================================================================\n",
      "Total params: 3811867 (14.54 MB)\n",
      "Trainable params: 3811867 (14.54 MB)\n",
      "Non-trainable params: 0 (0.00 Byte)\n",
      "__________________________________________________________________________________________________\n"
     ]
    },
    {
     "name": "stderr",
     "output_type": "stream",
     "text": [
      "2023-09-26 20:36:35.643011: I external/local_xla/xla/stream_executor/cuda/cuda_gpu_executor.cc:885] could not open file to read NUMA node: /sys/bus/pci/devices/0000:02:00.0/numa_node\n",
      "Your kernel may have been built without NUMA support.\n",
      "2023-09-26 20:36:35.643491: I external/local_xla/xla/stream_executor/cuda/cuda_gpu_executor.cc:885] could not open file to read NUMA node: /sys/bus/pci/devices/0000:02:00.0/numa_node\n",
      "Your kernel may have been built without NUMA support.\n",
      "2023-09-26 20:36:35.643785: I external/local_xla/xla/stream_executor/cuda/cuda_gpu_executor.cc:885] could not open file to read NUMA node: /sys/bus/pci/devices/0000:02:00.0/numa_node\n",
      "Your kernel may have been built without NUMA support.\n",
      "2023-09-26 20:36:36.330673: I external/local_xla/xla/stream_executor/cuda/cuda_gpu_executor.cc:885] could not open file to read NUMA node: /sys/bus/pci/devices/0000:02:00.0/numa_node\n",
      "Your kernel may have been built without NUMA support.\n",
      "2023-09-26 20:36:36.331015: I external/local_xla/xla/stream_executor/cuda/cuda_gpu_executor.cc:885] could not open file to read NUMA node: /sys/bus/pci/devices/0000:02:00.0/numa_node\n",
      "Your kernel may have been built without NUMA support.\n",
      "2023-09-26 20:36:36.331026: I tensorflow/core/common_runtime/gpu/gpu_device.cc:2003] Could not identify NUMA node of platform GPU id 0, defaulting to 0.  Your kernel may not have been built with NUMA support.\n",
      "2023-09-26 20:36:36.331331: I external/local_xla/xla/stream_executor/cuda/cuda_gpu_executor.cc:885] could not open file to read NUMA node: /sys/bus/pci/devices/0000:02:00.0/numa_node\n",
      "Your kernel may have been built without NUMA support.\n",
      "2023-09-26 20:36:36.331359: I tensorflow/core/common_runtime/gpu/gpu_device.cc:1912] Created device /job:localhost/replica:0/task:0/device:GPU:0 with 10598 MB memory:  -> device: 0, name: NVIDIA TITAN X (Pascal), pci bus id: 0000:02:00.0, compute capability: 6.1\n"
     ]
    }
   ],
   "source": [
    "import tensorflow as tf\n",
    "from tensorflow.keras.layers import Input, Dense, Concatenate, Dropout\n",
    "from tensorflow.keras.models import Model\n",
    "from tensorflow.keras.optimizers import AdamW,RMSprop\n",
    "from tensorflow.keras.regularizers import l2\n",
    "\n",
    "input_1 = Input(shape=(768,), name=\"input_1\")\n",
    "input_2 = Input(shape=(768,), name=\"input_2\")\n",
    "input_3 = Input(shape=(768,), name=\"input_3\")\n",
    "input_4 = Input(shape=(1,), name=\"input_4\")\n",
    "input_5 = Input(shape=(1,), name=\"input_5\")\n",
    "input_6 = Input(shape=(768,), name=\"input_6\")\n",
    "\n",
    "\n",
    "# Concaténer les deux entrées\n",
    "merged = Concatenate(axis=1)([input_1, input_2,input_3, input_4,input_5,input_6])\n",
    "\n",
    "x = Dense(1024, activation='relu')(merged)\n",
    "x = Dropout(0.1)(x)\n",
    "x = Dense(512, activation='relu')(x)\n",
    "x = Dropout(0.1)(x)\n",
    "x = Dense(256, activation='relu',kernel_regularizer=l2(0.01))(x)\n",
    "output = Dense(27, activation='softmax')(x)\n",
    "#optimizer = Adam(learning_rate=2e-5, epsilon=1e-08, clipnorm=1.0)\n",
    "optimizer = AdamW(weight_decay=1e-5, learning_rate=1e-5, epsilon=1e-08, clipnorm=1.0) \n",
    "#optimizer = RMSprop(learning_rate=1e-4)\n",
    "model = Model(inputs=[input_1, input_2,input_3,input_4,input_5,input_6], outputs=output)\n",
    "model.compile(optimizer=optimizer, loss='sparse_categorical_crossentropy', metrics=['accuracy',f1_weighted])\n",
    "\n",
    "model.summary()\n"
   ]
  },
  {
   "cell_type": "code",
   "execution_count": 11,
   "metadata": {},
   "outputs": [
    {
     "name": "stdout",
     "output_type": "stream",
     "text": [
      "Model: \"model_2\"\n",
      "__________________________________________________________________________________________________\n",
      " Layer (type)                Output Shape                 Param #   Connected to                  \n",
      "==================================================================================================\n",
      " input_1 (InputLayer)        [(None, 768)]                0         []                            \n",
      "                                                                                                  \n",
      " input_2 (InputLayer)        [(None, 768)]                0         []                            \n",
      "                                                                                                  \n",
      " input_3 (InputLayer)        [(None, 768)]                0         []                            \n",
      "                                                                                                  \n",
      " input_4 (InputLayer)        [(None, 1)]                  0         []                            \n",
      "                                                                                                  \n",
      " input_5 (InputLayer)        [(None, 1)]                  0         []                            \n",
      "                                                                                                  \n",
      " input_6 (InputLayer)        [(None, 768)]                0         []                            \n",
      "                                                                                                  \n",
      " concatenate_2 (Concatenate  (None, 3074)                 0         ['input_1[0][0]',             \n",
      " )                                                                   'input_2[0][0]',             \n",
      "                                                                     'input_3[0][0]',             \n",
      "                                                                     'input_4[0][0]',             \n",
      "                                                                     'input_5[0][0]',             \n",
      "                                                                     'input_6[0][0]']             \n",
      "                                                                                                  \n",
      " dense_8 (Dense)             (None, 768)                  2361600   ['concatenate_2[0][0]']       \n",
      "                                                                                                  \n",
      " dropout_4 (Dropout)         (None, 768)                  0         ['dense_8[0][0]']             \n",
      "                                                                                                  \n",
      " dense_9 (Dense)             (None, 512)                  393728    ['dropout_4[0][0]']           \n",
      "                                                                                                  \n",
      " dropout_5 (Dropout)         (None, 512)                  0         ['dense_9[0][0]']             \n",
      "                                                                                                  \n",
      " dense_10 (Dense)            (None, 128)                  65664     ['dropout_5[0][0]']           \n",
      "                                                                                                  \n",
      " dense_11 (Dense)            (None, 27)                   3483      ['dense_10[0][0]']            \n",
      "                                                                                                  \n",
      "==================================================================================================\n",
      "Total params: 2824475 (10.77 MB)\n",
      "Trainable params: 2824475 (10.77 MB)\n",
      "Non-trainable params: 0 (0.00 Byte)\n",
      "__________________________________________________________________________________________________\n"
     ]
    }
   ],
   "source": [
    "import tensorflow as tf\n",
    "from tensorflow.keras.layers import Input, Dense, Concatenate, Dropout,BatchNormalization, Activation\n",
    "from tensorflow.keras.models import Model\n",
    "from tensorflow.keras.optimizers import AdamW,RMSprop\n",
    "from tensorflow.keras.regularizers import l2\n",
    "\n",
    "input_1 = Input(shape=(768,), name=\"input_1\")\n",
    "input_2 = Input(shape=(768,), name=\"input_2\")\n",
    "input_3 = Input(shape=(768,), name=\"input_3\")\n",
    "input_4 = Input(shape=(1,), name=\"input_4\")\n",
    "input_5 = Input(shape=(1,), name=\"input_5\")\n",
    "input_6 = Input(shape=(768,), name=\"input_6\")\n",
    "\n",
    "\n",
    "# Concaténer les deux entrées\n",
    "merged = Concatenate(axis=1)([input_1, input_2,input_3, input_4,input_5,input_6])\n",
    "\n",
    "#768\n",
    "x = Dense(768, activation='relu')(merged)\n",
    "x = Dropout(0.3)(x)\n",
    "\n",
    "#512\n",
    "x = Dense(512, activation='relu')(x)\n",
    "x = Dropout(0.3)(x)\n",
    "#128\n",
    "x = Dense(128, activation='relu')(x)\n",
    "\n",
    "output = Dense(27, activation='softmax')(x)\n",
    "\n",
    "\n",
    "optimizer = AdamW(weight_decay=1e-5, learning_rate=1e-5, epsilon=1e-08, clipnorm=1.0)\n",
    "\n",
    "model = Model(inputs=[input_1, input_2,input_3,input_4,input_5,input_6], outputs=output)\n",
    "model.compile(optimizer=optimizer, loss='sparse_categorical_crossentropy', metrics=['accuracy',f1_weighted])\n",
    "\n",
    "#'sparse_categorical_crossentropy'\n",
    "model.summary()"
   ]
  },
  {
   "cell_type": "code",
   "execution_count": null,
   "metadata": {},
   "outputs": [
    {
     "name": "stdout",
     "output_type": "stream",
     "text": [
      "WARNING:tensorflow:\n",
      "The following Variables were used a Lambda layer's call (lambda), but\n",
      "are not present in its tracked objects:\n",
      "  <tf.Variable 'Variable:0' shape=(768,) dtype=float32>\n",
      "  <tf.Variable 'Variable:0' shape=(768,) dtype=float32>\n",
      "  <tf.Variable 'Variable:0' shape=(768,) dtype=float32>\n",
      "  <tf.Variable 'Variable:0' shape=(768,) dtype=float32>\n",
      "It is possible that this is intended behavior, but it is more likely\n",
      "an omission. This is a strong indication that this layer should be\n",
      "formulated as a subclassed Layer rather than a Lambda layer.\n"
     ]
    },
    {
     "name": "stdout",
     "output_type": "stream",
     "text": [
      "Model: \"model_1\"\n",
      "__________________________________________________________________________________________________\n",
      " Layer (type)                Output Shape                 Param #   Connected to                  \n",
      "==================================================================================================\n",
      " input_1 (InputLayer)        [(None, 768)]                0         []                            \n",
      "                                                                                                  \n",
      " input_2 (InputLayer)        [(None, 768)]                0         []                            \n",
      "                                                                                                  \n",
      " input_3 (InputLayer)        [(None, 768)]                0         []                            \n",
      "                                                                                                  \n",
      " lambda (Lambda)             (None, 768)                  0         ['input_1[0][0]',             \n",
      "                                                                     'input_2[0][0]',             \n",
      "                                                                     'input_3[0][0]']             \n",
      "                                                                                                  \n",
      " dense_3 (Dense)             (None, 512)                  393728    ['lambda[0][0]']              \n",
      "                                                                                                  \n",
      " dropout_2 (Dropout)         (None, 512)                  0         ['dense_3[0][0]']             \n",
      "                                                                                                  \n",
      " dense_4 (Dense)             (None, 256)                  131328    ['dropout_2[0][0]']           \n",
      "                                                                                                  \n",
      " dropout_3 (Dropout)         (None, 256)                  0         ['dense_4[0][0]']             \n",
      "                                                                                                  \n",
      " dense_5 (Dense)             (None, 27)                   6939      ['dropout_3[0][0]']           \n",
      "                                                                                                  \n",
      "==================================================================================================\n",
      "Total params: 531995 (2.03 MB)\n",
      "Trainable params: 531995 (2.03 MB)\n",
      "Non-trainable params: 0 (0.00 Byte)\n",
      "__________________________________________________________________________________________________\n"
     ]
    }
   ],
   "source": [
    "import tensorflow as tf\n",
    "from tensorflow.keras.layers import Input, Dense, Concatenate, Dropout, Lambda,Multiply\n",
    "from tensorflow.keras.models import Model\n",
    "import tensorflow.keras.backend as K\n",
    "from tensorflow.keras.optimizers import AdamW\n",
    "\n",
    "input_1 = Input(shape=(768,), name=\"input_1\")\n",
    "input_2 = Input(shape=(768,), name=\"input_2\")\n",
    "input_3 = Input(shape=(768,), name=\"input_3\")\n",
    "\n",
    "\n",
    "# Le merge des  towers\n",
    "# Poids pour la moyenne pondérée\n",
    "w_i1 = tf.Variable(initial_value=tf.ones([768])*0.5, trainable=True, dtype=tf.float32) # initialisé à 0.5, mais entraînable\n",
    "w_i2 = tf.Variable(initial_value=tf.ones([768])*0.5, trainable=True, dtype=tf.float32) # initialisé à 0.5, mais entraînable\n",
    "\n",
    "w_i3 = tf.Variable(initial_value=tf.ones([768])*0.5, trainable=True, dtype=tf.float32) # initialisé à 0.5, mais entraînable\n",
    "\n",
    "w_i4 = tf.Variable(initial_value=tf.zeros([768]), trainable=True, dtype=tf.float32)\n",
    "\n",
    "# Fusion moyenne pondérée\n",
    "moyenne = Lambda(lambda features: w_i1 * features[0] + w_i2 * features[1] + w_i3*features[2]+w_i4)([input_1, input_2, input_3])\n",
    "\n",
    "#produit = Multiply()([input_1, input_2])\n",
    "#difference = Lambda(lambda tensors: K.abs(tensors[0] - tensors[1]))([input_1, input_2])\n",
    "\n",
    "\n",
    "#merged = Concatenate(axis=1)([input_1, input_2])\n",
    "\n",
    "x = Dense(512, activation='relu')(moyenne)\n",
    "x = Dropout(0.3)(x)\n",
    "x = Dense(256, activation='relu')(x)\n",
    "x = Dropout(0.3)(x)\n",
    "output = Dense(27, activation='softmax')(x)\n",
    "\n",
    "model = Model(inputs=[input_1, input_2, input_3], outputs=output)\n",
    "optimizer = AdamW(weight_decay=0.01, learning_rate=1e-5, epsilon=1e-08, clipnorm=1.0) \n",
    "#optimizer = Adam(learning_rate=2e-5, epsilon=1e-08, clipnorm=1.0)\n",
    "model.compile(optimizer=optimizer, loss='sparse_categorical_crossentropy', metrics=['accuracy'])\n",
    "\n",
    "model.summary()\n"
   ]
  },
  {
   "cell_type": "code",
   "execution_count": 12,
   "metadata": {},
   "outputs": [
    {
     "name": "stdout",
     "output_type": "stream",
     "text": [
      "Epoch 1/30\n"
     ]
    },
    {
     "name": "stderr",
     "output_type": "stream",
     "text": [
      "2023-09-27 23:04:12.513354: I tensorflow/core/data/root_dataset.cc:62] `tf.data.Options` values set are distribute_options {\n",
      "  auto_shard_policy: DATA\n",
      "}\n",
      "optimization_options {\n",
      "  apply_default_optimizations: false\n",
      "}\n",
      "threading_options {\n",
      "}\n",
      "external_state_policy: POLICY_IGNORE\n",
      "autotune_options {\n",
      "}\n",
      "warm_start: false\n",
      "\n"
     ]
    },
    {
     "name": "stdout",
     "output_type": "stream",
     "text": [
      "1907/1911 [============================>.] - ETA: 0s - loss: 0.5099 - accuracy: 0.8844 - f1_weighted: 0.8252"
     ]
    },
    {
     "name": "stderr",
     "output_type": "stream",
     "text": [
      "2023-09-27 23:04:27.820296: I tensorflow/core/data/root_dataset.cc:62] `tf.data.Options` values set are distribute_options {\n",
      "  auto_shard_policy: DATA\n",
      "}\n",
      "optimization_options {\n",
      "  apply_default_optimizations: false\n",
      "}\n",
      "threading_options {\n",
      "}\n",
      "autotune_options {\n",
      "}\n",
      "warm_start: false\n",
      "\n"
     ]
    },
    {
     "name": "stdout",
     "output_type": "stream",
     "text": [
      "1911/1911 [==============================] - 16s 8ms/step - loss: 0.5092 - accuracy: 0.8846 - f1_weighted: 0.8255 - val_loss: 0.1302 - val_accuracy: 0.9623 - val_f1_weighted: 0.9778\n",
      "Epoch 2/30\n",
      "1911/1911 [==============================] - 15s 8ms/step - loss: 0.1454 - accuracy: 0.9619 - f1_weighted: 0.9744 - val_loss: 0.1131 - val_accuracy: 0.9676 - val_f1_weighted: 0.9810\n",
      "Epoch 3/30\n",
      "1911/1911 [==============================] - 15s 8ms/step - loss: 0.1247 - accuracy: 0.9668 - f1_weighted: 0.9781 - val_loss: 0.1047 - val_accuracy: 0.9703 - val_f1_weighted: 0.9827\n",
      "Epoch 4/30\n",
      "1911/1911 [==============================] - 15s 8ms/step - loss: 0.1147 - accuracy: 0.9702 - f1_weighted: 0.9806 - val_loss: 0.0968 - val_accuracy: 0.9723 - val_f1_weighted: 0.9846\n",
      "Epoch 5/30\n",
      "1911/1911 [==============================] - 15s 8ms/step - loss: 0.1049 - accuracy: 0.9721 - f1_weighted: 0.9819 - val_loss: 0.0942 - val_accuracy: 0.9731 - val_f1_weighted: 0.9844\n",
      "Epoch 6/30\n",
      "1911/1911 [==============================] - 15s 8ms/step - loss: 0.0976 - accuracy: 0.9737 - f1_weighted: 0.9832 - val_loss: 0.0898 - val_accuracy: 0.9741 - val_f1_weighted: 0.9847\n",
      "Epoch 7/30\n",
      "1911/1911 [==============================] - 15s 8ms/step - loss: 0.0918 - accuracy: 0.9758 - f1_weighted: 0.9845 - val_loss: 0.0870 - val_accuracy: 0.9747 - val_f1_weighted: 0.9861\n",
      "Epoch 8/30\n",
      "1911/1911 [==============================] - 15s 8ms/step - loss: 0.0882 - accuracy: 0.9766 - f1_weighted: 0.9852 - val_loss: 0.0844 - val_accuracy: 0.9763 - val_f1_weighted: 0.9865\n",
      "Epoch 9/30\n",
      "1911/1911 [==============================] - 15s 8ms/step - loss: 0.0831 - accuracy: 0.9779 - f1_weighted: 0.9860 - val_loss: 0.0854 - val_accuracy: 0.9753 - val_f1_weighted: 0.9863\n",
      "Epoch 10/30\n",
      "1911/1911 [==============================] - 15s 8ms/step - loss: 0.0815 - accuracy: 0.9784 - f1_weighted: 0.9862 - val_loss: 0.0838 - val_accuracy: 0.9764 - val_f1_weighted: 0.9871\n",
      "Epoch 11/30\n",
      "1911/1911 [==============================] - 15s 8ms/step - loss: 0.0776 - accuracy: 0.9795 - f1_weighted: 0.9868 - val_loss: 0.0807 - val_accuracy: 0.9772 - val_f1_weighted: 0.9876\n",
      "Epoch 12/30\n",
      "1911/1911 [==============================] - 15s 8ms/step - loss: 0.0759 - accuracy: 0.9802 - f1_weighted: 0.9872 - val_loss: 0.0800 - val_accuracy: 0.9770 - val_f1_weighted: 0.9876\n",
      "Epoch 13/30\n",
      "1911/1911 [==============================] - 15s 8ms/step - loss: 0.0710 - accuracy: 0.9807 - f1_weighted: 0.9874 - val_loss: 0.0805 - val_accuracy: 0.9776 - val_f1_weighted: 0.9872\n",
      "Epoch 14/30\n",
      "1911/1911 [==============================] - 15s 8ms/step - loss: 0.0709 - accuracy: 0.9810 - f1_weighted: 0.9881 - val_loss: 0.0785 - val_accuracy: 0.9788 - val_f1_weighted: 0.9885\n",
      "Epoch 15/30\n",
      "1911/1911 [==============================] - 15s 8ms/step - loss: 0.0677 - accuracy: 0.9816 - f1_weighted: 0.9886 - val_loss: 0.0767 - val_accuracy: 0.9784 - val_f1_weighted: 0.9880\n",
      "Epoch 16/30\n",
      "1911/1911 [==============================] - 15s 8ms/step - loss: 0.0668 - accuracy: 0.9819 - f1_weighted: 0.9887 - val_loss: 0.0773 - val_accuracy: 0.9781 - val_f1_weighted: 0.9872\n",
      "Epoch 17/30\n",
      "1911/1911 [==============================] - 15s 8ms/step - loss: 0.0642 - accuracy: 0.9832 - f1_weighted: 0.9894 - val_loss: 0.0765 - val_accuracy: 0.9782 - val_f1_weighted: 0.9882\n",
      "Epoch 18/30\n",
      "1911/1911 [==============================] - 15s 8ms/step - loss: 0.0629 - accuracy: 0.9830 - f1_weighted: 0.9896 - val_loss: 0.0764 - val_accuracy: 0.9791 - val_f1_weighted: 0.9884\n",
      "Epoch 19/30\n",
      "1911/1911 [==============================] - 16s 8ms/step - loss: 0.0614 - accuracy: 0.9833 - f1_weighted: 0.9899 - val_loss: 0.0794 - val_accuracy: 0.9773 - val_f1_weighted: 0.9874\n",
      "Epoch 20/30\n",
      "1911/1911 [==============================] - 15s 8ms/step - loss: 0.0597 - accuracy: 0.9838 - f1_weighted: 0.9898 - val_loss: 0.0769 - val_accuracy: 0.9788 - val_f1_weighted: 0.9881\n",
      "Epoch 21/30\n",
      "1911/1911 [==============================] - 16s 8ms/step - loss: 0.0586 - accuracy: 0.9840 - f1_weighted: 0.9899 - val_loss: 0.0769 - val_accuracy: 0.9791 - val_f1_weighted: 0.9881\n",
      "Epoch 22/30\n",
      "1911/1911 [==============================] - 16s 8ms/step - loss: 0.0565 - accuracy: 0.9846 - f1_weighted: 0.9908 - val_loss: 0.0770 - val_accuracy: 0.9785 - val_f1_weighted: 0.9877\n",
      "Epoch 23/30\n",
      "1911/1911 [==============================] - 16s 8ms/step - loss: 0.0555 - accuracy: 0.9849 - f1_weighted: 0.9906 - val_loss: 0.0753 - val_accuracy: 0.9792 - val_f1_weighted: 0.9888\n",
      "Epoch 24/30\n",
      "1911/1911 [==============================] - 15s 8ms/step - loss: 0.0547 - accuracy: 0.9849 - f1_weighted: 0.9904 - val_loss: 0.0739 - val_accuracy: 0.9807 - val_f1_weighted: 0.9889\n",
      "Epoch 25/30\n",
      "1911/1911 [==============================] - 15s 8ms/step - loss: 0.0521 - accuracy: 0.9857 - f1_weighted: 0.9912 - val_loss: 0.0752 - val_accuracy: 0.9791 - val_f1_weighted: 0.9883\n",
      "Epoch 26/30\n",
      "1911/1911 [==============================] - 15s 8ms/step - loss: 0.0513 - accuracy: 0.9861 - f1_weighted: 0.9914 - val_loss: 0.0762 - val_accuracy: 0.9794 - val_f1_weighted: 0.9886\n",
      "Epoch 27/30\n",
      "1911/1911 [==============================] - 16s 8ms/step - loss: 0.0497 - accuracy: 0.9866 - f1_weighted: 0.9918 - val_loss: 0.0750 - val_accuracy: 0.9798 - val_f1_weighted: 0.9886\n",
      "Epoch 28/30\n",
      "1911/1911 [==============================] - 16s 8ms/step - loss: 0.0498 - accuracy: 0.9866 - f1_weighted: 0.9915 - val_loss: 0.0754 - val_accuracy: 0.9795 - val_f1_weighted: 0.9881\n",
      "Epoch 29/30\n",
      "1911/1911 [==============================] - 15s 8ms/step - loss: 0.0471 - accuracy: 0.9869 - f1_weighted: 0.9919 - val_loss: 0.0762 - val_accuracy: 0.9795 - val_f1_weighted: 0.9890\n",
      "Epoch 30/30\n",
      "1906/1911 [============================>.] - ETA: 0s - loss: 0.0470 - accuracy: 0.9868 - f1_weighted: 0.9921Restoring model weights from the end of the best epoch: 24.\n",
      "1911/1911 [==============================] - 16s 8ms/step - loss: 0.0470 - accuracy: 0.9868 - f1_weighted: 0.9921 - val_loss: 0.0759 - val_accuracy: 0.9798 - val_f1_weighted: 0.9887\n",
      "Epoch 30: early stopping\n",
      "Epoch 1/30\n",
      "  25/1911 [..............................] - ETA: 13s - loss: 0.0545 - accuracy: 0.9887 - f1_weighted: 0.9922"
     ]
    },
    {
     "name": "stderr",
     "output_type": "stream",
     "text": [
      "2023-09-27 23:11:47.491887: I tensorflow/core/data/root_dataset.cc:62] `tf.data.Options` values set are distribute_options {\n",
      "  auto_shard_policy: DATA\n",
      "}\n",
      "optimization_options {\n",
      "  apply_default_optimizations: false\n",
      "}\n",
      "threading_options {\n",
      "}\n",
      "external_state_policy: POLICY_IGNORE\n",
      "autotune_options {\n",
      "}\n",
      "warm_start: false\n",
      "\n"
     ]
    },
    {
     "name": "stdout",
     "output_type": "stream",
     "text": [
      "1905/1911 [============================>.] - ETA: 0s - loss: 0.0558 - accuracy: 0.9841 - f1_weighted: 0.9906"
     ]
    },
    {
     "name": "stderr",
     "output_type": "stream",
     "text": [
      "2023-09-27 23:12:02.443822: I tensorflow/core/data/root_dataset.cc:62] `tf.data.Options` values set are distribute_options {\n",
      "  auto_shard_policy: DATA\n",
      "}\n",
      "optimization_options {\n",
      "  apply_default_optimizations: false\n",
      "}\n",
      "threading_options {\n",
      "}\n",
      "autotune_options {\n",
      "}\n",
      "warm_start: false\n",
      "\n"
     ]
    },
    {
     "name": "stdout",
     "output_type": "stream",
     "text": [
      "1911/1911 [==============================] - 16s 8ms/step - loss: 0.0558 - accuracy: 0.9841 - f1_weighted: 0.9906 - val_loss: 0.0436 - val_accuracy: 0.9887 - val_f1_weighted: 0.9930\n",
      "Epoch 2/30\n",
      "1911/1911 [==============================] - 15s 8ms/step - loss: 0.0536 - accuracy: 0.9850 - f1_weighted: 0.9908 - val_loss: 0.0443 - val_accuracy: 0.9882 - val_f1_weighted: 0.9927\n",
      "Epoch 3/30\n",
      "1911/1911 [==============================] - 15s 8ms/step - loss: 0.0526 - accuracy: 0.9855 - f1_weighted: 0.9912 - val_loss: 0.0453 - val_accuracy: 0.9884 - val_f1_weighted: 0.9930\n",
      "Epoch 4/30\n",
      "1911/1911 [==============================] - 15s 8ms/step - loss: 0.0524 - accuracy: 0.9857 - f1_weighted: 0.9913 - val_loss: 0.0456 - val_accuracy: 0.9869 - val_f1_weighted: 0.9918\n",
      "Epoch 5/30\n",
      "1909/1911 [============================>.] - ETA: 0s - loss: 0.0507 - accuracy: 0.9857 - f1_weighted: 0.9910Restoring model weights from the end of the best epoch: 1.\n",
      "1911/1911 [==============================] - 15s 8ms/step - loss: 0.0507 - accuracy: 0.9857 - f1_weighted: 0.9911 - val_loss: 0.0456 - val_accuracy: 0.9876 - val_f1_weighted: 0.9924\n",
      "Epoch 5: early stopping\n",
      "Epoch 1/30\n",
      "  24/1911 [..............................] - ETA: 13s - loss: 0.0368 - accuracy: 0.9896 - f1_weighted: 0.9927"
     ]
    },
    {
     "name": "stderr",
     "output_type": "stream",
     "text": [
      "2023-09-27 23:13:03.550595: I tensorflow/core/data/root_dataset.cc:62] `tf.data.Options` values set are distribute_options {\n",
      "  auto_shard_policy: DATA\n",
      "}\n",
      "optimization_options {\n",
      "  apply_default_optimizations: false\n",
      "}\n",
      "threading_options {\n",
      "}\n",
      "external_state_policy: POLICY_IGNORE\n",
      "autotune_options {\n",
      "}\n",
      "warm_start: false\n",
      "\n"
     ]
    },
    {
     "name": "stdout",
     "output_type": "stream",
     "text": [
      "1909/1911 [============================>.] - ETA: 0s - loss: 0.0538 - accuracy: 0.9849 - f1_weighted: 0.9906"
     ]
    },
    {
     "name": "stderr",
     "output_type": "stream",
     "text": [
      "2023-09-27 23:13:18.820046: I tensorflow/core/data/root_dataset.cc:62] `tf.data.Options` values set are distribute_options {\n",
      "  auto_shard_policy: DATA\n",
      "}\n",
      "optimization_options {\n",
      "  apply_default_optimizations: false\n",
      "}\n",
      "threading_options {\n",
      "}\n",
      "autotune_options {\n",
      "}\n",
      "warm_start: false\n",
      "\n"
     ]
    },
    {
     "name": "stdout",
     "output_type": "stream",
     "text": [
      "1911/1911 [==============================] - 16s 8ms/step - loss: 0.0539 - accuracy: 0.9849 - f1_weighted: 0.9906 - val_loss: 0.0405 - val_accuracy: 0.9885 - val_f1_weighted: 0.9933\n",
      "Epoch 2/30\n",
      "1911/1911 [==============================] - 15s 8ms/step - loss: 0.0534 - accuracy: 0.9853 - f1_weighted: 0.9909 - val_loss: 0.0400 - val_accuracy: 0.9884 - val_f1_weighted: 0.9938\n",
      "Epoch 3/30\n",
      "1911/1911 [==============================] - 15s 8ms/step - loss: 0.0527 - accuracy: 0.9853 - f1_weighted: 0.9907 - val_loss: 0.0400 - val_accuracy: 0.9887 - val_f1_weighted: 0.9940\n",
      "Epoch 4/30\n",
      "1911/1911 [==============================] - 15s 8ms/step - loss: 0.0515 - accuracy: 0.9857 - f1_weighted: 0.9911 - val_loss: 0.0409 - val_accuracy: 0.9876 - val_f1_weighted: 0.9932\n",
      "Epoch 5/30\n",
      "1911/1911 [==============================] - 15s 8ms/step - loss: 0.0504 - accuracy: 0.9864 - f1_weighted: 0.9919 - val_loss: 0.0409 - val_accuracy: 0.9879 - val_f1_weighted: 0.9928\n",
      "Epoch 6/30\n",
      "1911/1911 [==============================] - 15s 8ms/step - loss: 0.0494 - accuracy: 0.9866 - f1_weighted: 0.9918 - val_loss: 0.0431 - val_accuracy: 0.9891 - val_f1_weighted: 0.9938\n",
      "Epoch 7/30\n",
      "1911/1911 [==============================] - 15s 8ms/step - loss: 0.0468 - accuracy: 0.9868 - f1_weighted: 0.9921 - val_loss: 0.0427 - val_accuracy: 0.9876 - val_f1_weighted: 0.9934\n",
      "Epoch 8/30\n",
      "1911/1911 [==============================] - 16s 8ms/step - loss: 0.0459 - accuracy: 0.9871 - f1_weighted: 0.9921 - val_loss: 0.0429 - val_accuracy: 0.9881 - val_f1_weighted: 0.9933\n",
      "Epoch 9/30\n",
      "1911/1911 [==============================] - 15s 8ms/step - loss: 0.0453 - accuracy: 0.9874 - f1_weighted: 0.9925 - val_loss: 0.0437 - val_accuracy: 0.9884 - val_f1_weighted: 0.9934\n",
      "Epoch 10/30\n",
      "1911/1911 [==============================] - ETA: 0s - loss: 0.0440 - accuracy: 0.9876 - f1_weighted: 0.9926Restoring model weights from the end of the best epoch: 6.\n",
      "1911/1911 [==============================] - 15s 8ms/step - loss: 0.0440 - accuracy: 0.9876 - f1_weighted: 0.9926 - val_loss: 0.0436 - val_accuracy: 0.9881 - val_f1_weighted: 0.9936\n",
      "Epoch 10: early stopping\n",
      "Epoch 1/30\n",
      "  25/1911 [..............................] - ETA: 12s - loss: 0.0260 - accuracy: 0.9925 - f1_weighted: 0.9956"
     ]
    },
    {
     "name": "stderr",
     "output_type": "stream",
     "text": [
      "2023-09-27 23:15:36.694490: I tensorflow/core/data/root_dataset.cc:62] `tf.data.Options` values set are distribute_options {\n",
      "  auto_shard_policy: DATA\n",
      "}\n",
      "optimization_options {\n",
      "  apply_default_optimizations: false\n",
      "}\n",
      "threading_options {\n",
      "}\n",
      "external_state_policy: POLICY_IGNORE\n",
      "autotune_options {\n",
      "}\n",
      "warm_start: false\n",
      "\n"
     ]
    },
    {
     "name": "stdout",
     "output_type": "stream",
     "text": [
      "1906/1911 [============================>.] - ETA: 0s - loss: 0.0483 - accuracy: 0.9864 - f1_weighted: 0.9916"
     ]
    },
    {
     "name": "stderr",
     "output_type": "stream",
     "text": [
      "2023-09-27 23:15:51.189033: I tensorflow/core/data/root_dataset.cc:62] `tf.data.Options` values set are distribute_options {\n",
      "  auto_shard_policy: DATA\n",
      "}\n",
      "optimization_options {\n",
      "  apply_default_optimizations: false\n",
      "}\n",
      "threading_options {\n",
      "}\n",
      "autotune_options {\n",
      "}\n",
      "warm_start: false\n",
      "\n"
     ]
    },
    {
     "name": "stdout",
     "output_type": "stream",
     "text": [
      "1911/1911 [==============================] - 15s 8ms/step - loss: 0.0482 - accuracy: 0.9864 - f1_weighted: 0.9916 - val_loss: 0.0413 - val_accuracy: 0.9895 - val_f1_weighted: 0.9943\n",
      "Epoch 2/30\n",
      "1911/1911 [==============================] - 16s 8ms/step - loss: 0.0468 - accuracy: 0.9868 - f1_weighted: 0.9921 - val_loss: 0.0425 - val_accuracy: 0.9895 - val_f1_weighted: 0.9948\n",
      "Epoch 3/30\n",
      "1911/1911 [==============================] - 15s 8ms/step - loss: 0.0459 - accuracy: 0.9866 - f1_weighted: 0.9920 - val_loss: 0.0418 - val_accuracy: 0.9891 - val_f1_weighted: 0.9939\n",
      "Epoch 4/30\n",
      "1911/1911 [==============================] - 15s 8ms/step - loss: 0.0445 - accuracy: 0.9874 - f1_weighted: 0.9924 - val_loss: 0.0432 - val_accuracy: 0.9893 - val_f1_weighted: 0.9944\n",
      "Epoch 5/30\n",
      "1910/1911 [============================>.] - ETA: 0s - loss: 0.0435 - accuracy: 0.9878 - f1_weighted: 0.9926Restoring model weights from the end of the best epoch: 1.\n",
      "1911/1911 [==============================] - 15s 8ms/step - loss: 0.0435 - accuracy: 0.9878 - f1_weighted: 0.9926 - val_loss: 0.0442 - val_accuracy: 0.9885 - val_f1_weighted: 0.9941\n",
      "Epoch 5: early stopping\n",
      "Epoch 1/30\n",
      "  22/1911 [..............................] - ETA: 14s - loss: 0.0323 - accuracy: 0.9886 - f1_weighted: 0.9950"
     ]
    },
    {
     "name": "stderr",
     "output_type": "stream",
     "text": [
      "2023-09-27 23:16:54.576173: I tensorflow/core/data/root_dataset.cc:62] `tf.data.Options` values set are distribute_options {\n",
      "  auto_shard_policy: DATA\n",
      "}\n",
      "optimization_options {\n",
      "  apply_default_optimizations: false\n",
      "}\n",
      "threading_options {\n",
      "}\n",
      "external_state_policy: POLICY_IGNORE\n",
      "autotune_options {\n",
      "}\n",
      "warm_start: false\n",
      "\n"
     ]
    },
    {
     "name": "stdout",
     "output_type": "stream",
     "text": [
      "1908/1911 [============================>.] - ETA: 0s - loss: 0.0465 - accuracy: 0.9868 - f1_weighted: 0.9921"
     ]
    },
    {
     "name": "stderr",
     "output_type": "stream",
     "text": [
      "2023-09-27 23:17:09.177898: I tensorflow/core/data/root_dataset.cc:62] `tf.data.Options` values set are distribute_options {\n",
      "  auto_shard_policy: DATA\n",
      "}\n",
      "optimization_options {\n",
      "  apply_default_optimizations: false\n",
      "}\n",
      "threading_options {\n",
      "}\n",
      "autotune_options {\n",
      "}\n",
      "warm_start: false\n",
      "\n"
     ]
    },
    {
     "name": "stdout",
     "output_type": "stream",
     "text": [
      "1911/1911 [==============================] - 15s 8ms/step - loss: 0.0465 - accuracy: 0.9868 - f1_weighted: 0.9920 - val_loss: 0.0373 - val_accuracy: 0.9900 - val_f1_weighted: 0.9940\n",
      "Epoch 2/30\n",
      "1911/1911 [==============================] - 15s 8ms/step - loss: 0.0463 - accuracy: 0.9873 - f1_weighted: 0.9924 - val_loss: 0.0384 - val_accuracy: 0.9903 - val_f1_weighted: 0.9938\n",
      "Epoch 3/30\n",
      "1911/1911 [==============================] - 15s 8ms/step - loss: 0.0458 - accuracy: 0.9870 - f1_weighted: 0.9923 - val_loss: 0.0396 - val_accuracy: 0.9901 - val_f1_weighted: 0.9942\n",
      "Epoch 4/30\n",
      "1911/1911 [==============================] - 16s 8ms/step - loss: 0.0432 - accuracy: 0.9879 - f1_weighted: 0.9927 - val_loss: 0.0397 - val_accuracy: 0.9898 - val_f1_weighted: 0.9935\n",
      "Epoch 5/30\n",
      "1911/1911 [==============================] - 16s 8ms/step - loss: 0.0429 - accuracy: 0.9882 - f1_weighted: 0.9929 - val_loss: 0.0421 - val_accuracy: 0.9888 - val_f1_weighted: 0.9937\n",
      "Epoch 6/30\n",
      "1910/1911 [============================>.] - ETA: 0s - loss: 0.0424 - accuracy: 0.9882 - f1_weighted: 0.9927Restoring model weights from the end of the best epoch: 2.\n",
      "1911/1911 [==============================] - 15s 8ms/step - loss: 0.0424 - accuracy: 0.9882 - f1_weighted: 0.9926 - val_loss: 0.0419 - val_accuracy: 0.9894 - val_f1_weighted: 0.9936\n",
      "Epoch 6: early stopping\n",
      "Epoch 1/30\n",
      "  24/1911 [..............................] - ETA: 13s - loss: 0.0407 - accuracy: 0.9896 - f1_weighted: 0.9947"
     ]
    },
    {
     "name": "stderr",
     "output_type": "stream",
     "text": [
      "2023-09-27 23:18:27.674061: I tensorflow/core/data/root_dataset.cc:62] `tf.data.Options` values set are distribute_options {\n",
      "  auto_shard_policy: DATA\n",
      "}\n",
      "optimization_options {\n",
      "  apply_default_optimizations: false\n",
      "}\n",
      "threading_options {\n",
      "}\n",
      "external_state_policy: POLICY_IGNORE\n",
      "autotune_options {\n",
      "}\n",
      "warm_start: false\n",
      "\n"
     ]
    },
    {
     "name": "stdout",
     "output_type": "stream",
     "text": [
      "1911/1911 [==============================] - ETA: 0s - loss: 0.0453 - accuracy: 0.9871 - f1_weighted: 0.9921"
     ]
    },
    {
     "name": "stderr",
     "output_type": "stream",
     "text": [
      "2023-09-27 23:18:42.193202: I tensorflow/core/data/root_dataset.cc:62] `tf.data.Options` values set are distribute_options {\n",
      "  auto_shard_policy: DATA\n",
      "}\n",
      "optimization_options {\n",
      "  apply_default_optimizations: false\n",
      "}\n",
      "threading_options {\n",
      "}\n",
      "autotune_options {\n",
      "}\n",
      "warm_start: false\n",
      "\n"
     ]
    },
    {
     "name": "stdout",
     "output_type": "stream",
     "text": [
      "1911/1911 [==============================] - 15s 8ms/step - loss: 0.0453 - accuracy: 0.9871 - f1_weighted: 0.9921 - val_loss: 0.0405 - val_accuracy: 0.9906 - val_f1_weighted: 0.9945\n",
      "Epoch 2/30\n",
      "1911/1911 [==============================] - 15s 8ms/step - loss: 0.0435 - accuracy: 0.9874 - f1_weighted: 0.9923 - val_loss: 0.0417 - val_accuracy: 0.9891 - val_f1_weighted: 0.9937\n",
      "Epoch 3/30\n",
      "1911/1911 [==============================] - 17s 9ms/step - loss: 0.0434 - accuracy: 0.9878 - f1_weighted: 0.9924 - val_loss: 0.0427 - val_accuracy: 0.9894 - val_f1_weighted: 0.9937\n",
      "Epoch 4/30\n",
      "1911/1911 [==============================] - 17s 9ms/step - loss: 0.0411 - accuracy: 0.9885 - f1_weighted: 0.9929 - val_loss: 0.0428 - val_accuracy: 0.9894 - val_f1_weighted: 0.9938\n",
      "Epoch 5/30\n",
      "1909/1911 [============================>.] - ETA: 0s - loss: 0.0401 - accuracy: 0.9886 - f1_weighted: 0.9929Restoring model weights from the end of the best epoch: 1.\n",
      "1911/1911 [==============================] - 15s 8ms/step - loss: 0.0400 - accuracy: 0.9886 - f1_weighted: 0.9929 - val_loss: 0.0445 - val_accuracy: 0.9894 - val_f1_weighted: 0.9939\n",
      "Epoch 5: early stopping\n",
      "Epoch 1/30\n",
      "  23/1911 [..............................] - ETA: 13s - loss: 0.0260 - accuracy: 0.9946 - f1_weighted: 0.9945"
     ]
    },
    {
     "name": "stderr",
     "output_type": "stream",
     "text": [
      "2023-09-27 23:19:48.602633: I tensorflow/core/data/root_dataset.cc:62] `tf.data.Options` values set are distribute_options {\n",
      "  auto_shard_policy: DATA\n",
      "}\n",
      "optimization_options {\n",
      "  apply_default_optimizations: false\n",
      "}\n",
      "threading_options {\n",
      "}\n",
      "external_state_policy: POLICY_IGNORE\n",
      "autotune_options {\n",
      "}\n",
      "warm_start: false\n",
      "\n"
     ]
    },
    {
     "name": "stdout",
     "output_type": "stream",
     "text": [
      "1905/1911 [============================>.] - ETA: 0s - loss: 0.0452 - accuracy: 0.9875 - f1_weighted: 0.9922"
     ]
    },
    {
     "name": "stderr",
     "output_type": "stream",
     "text": [
      "2023-09-27 23:20:02.929902: I tensorflow/core/data/root_dataset.cc:62] `tf.data.Options` values set are distribute_options {\n",
      "  auto_shard_policy: DATA\n",
      "}\n",
      "optimization_options {\n",
      "  apply_default_optimizations: false\n",
      "}\n",
      "threading_options {\n",
      "}\n",
      "autotune_options {\n",
      "}\n",
      "warm_start: false\n",
      "\n"
     ]
    },
    {
     "name": "stdout",
     "output_type": "stream",
     "text": [
      "1911/1911 [==============================] - 15s 8ms/step - loss: 0.0451 - accuracy: 0.9876 - f1_weighted: 0.9922 - val_loss: 0.0295 - val_accuracy: 0.9921 - val_f1_weighted: 0.9958\n",
      "Epoch 2/30\n",
      "1911/1911 [==============================] - 15s 8ms/step - loss: 0.0446 - accuracy: 0.9875 - f1_weighted: 0.9923 - val_loss: 0.0288 - val_accuracy: 0.9918 - val_f1_weighted: 0.9955\n",
      "Epoch 3/30\n",
      "1911/1911 [==============================] - 15s 8ms/step - loss: 0.0432 - accuracy: 0.9882 - f1_weighted: 0.9929 - val_loss: 0.0309 - val_accuracy: 0.9919 - val_f1_weighted: 0.9960\n",
      "Epoch 4/30\n",
      "1911/1911 [==============================] - 15s 8ms/step - loss: 0.0415 - accuracy: 0.9886 - f1_weighted: 0.9931 - val_loss: 0.0294 - val_accuracy: 0.9921 - val_f1_weighted: 0.9956\n",
      "Epoch 5/30\n",
      "1909/1911 [============================>.] - ETA: 0s - loss: 0.0404 - accuracy: 0.9886 - f1_weighted: 0.9931Restoring model weights from the end of the best epoch: 1.\n",
      "1911/1911 [==============================] - 15s 8ms/step - loss: 0.0404 - accuracy: 0.9886 - f1_weighted: 0.9931 - val_loss: 0.0313 - val_accuracy: 0.9910 - val_f1_weighted: 0.9953\n",
      "Epoch 5: early stopping\n",
      "Epoch 1/30\n",
      "  24/1911 [..............................] - ETA: 13s - loss: 0.0474 - accuracy: 0.9870 - f1_weighted: 0.9912"
     ]
    },
    {
     "name": "stderr",
     "output_type": "stream",
     "text": [
      "2023-09-27 23:21:03.490249: I tensorflow/core/data/root_dataset.cc:62] `tf.data.Options` values set are distribute_options {\n",
      "  auto_shard_policy: DATA\n",
      "}\n",
      "optimization_options {\n",
      "  apply_default_optimizations: false\n",
      "}\n",
      "threading_options {\n",
      "}\n",
      "external_state_policy: POLICY_IGNORE\n",
      "autotune_options {\n",
      "}\n",
      "warm_start: false\n",
      "\n"
     ]
    },
    {
     "name": "stdout",
     "output_type": "stream",
     "text": [
      "1909/1911 [============================>.] - ETA: 0s - loss: 0.0424 - accuracy: 0.9879 - f1_weighted: 0.9928"
     ]
    },
    {
     "name": "stderr",
     "output_type": "stream",
     "text": [
      "2023-09-27 23:21:17.963100: I tensorflow/core/data/root_dataset.cc:62] `tf.data.Options` values set are distribute_options {\n",
      "  auto_shard_policy: DATA\n",
      "}\n",
      "optimization_options {\n",
      "  apply_default_optimizations: false\n",
      "}\n",
      "threading_options {\n",
      "}\n",
      "autotune_options {\n",
      "}\n",
      "warm_start: false\n",
      "\n"
     ]
    },
    {
     "name": "stdout",
     "output_type": "stream",
     "text": [
      "1911/1911 [==============================] - 15s 8ms/step - loss: 0.0424 - accuracy: 0.9879 - f1_weighted: 0.9928 - val_loss: 0.0342 - val_accuracy: 0.9916 - val_f1_weighted: 0.9955\n",
      "Epoch 2/30\n",
      "1911/1911 [==============================] - 15s 8ms/step - loss: 0.0422 - accuracy: 0.9878 - f1_weighted: 0.9926 - val_loss: 0.0344 - val_accuracy: 0.9910 - val_f1_weighted: 0.9954\n",
      "Epoch 3/30\n",
      "1911/1911 [==============================] - 14s 8ms/step - loss: 0.0413 - accuracy: 0.9888 - f1_weighted: 0.9932 - val_loss: 0.0364 - val_accuracy: 0.9903 - val_f1_weighted: 0.9945\n",
      "Epoch 4/30\n",
      "1911/1911 [==============================] - 15s 8ms/step - loss: 0.0405 - accuracy: 0.9888 - f1_weighted: 0.9932 - val_loss: 0.0379 - val_accuracy: 0.9898 - val_f1_weighted: 0.9942\n",
      "Epoch 5/30\n",
      "1907/1911 [============================>.] - ETA: 0s - loss: 0.0399 - accuracy: 0.9888 - f1_weighted: 0.9932Restoring model weights from the end of the best epoch: 1.\n",
      "1911/1911 [==============================] - 15s 8ms/step - loss: 0.0399 - accuracy: 0.9888 - f1_weighted: 0.9932 - val_loss: 0.0399 - val_accuracy: 0.9900 - val_f1_weighted: 0.9946\n",
      "Epoch 5: early stopping\n",
      "Epoch 1/30\n",
      "  21/1911 [..............................] - ETA: 14s - loss: 0.0215 - accuracy: 0.9955 - f1_weighted: 0.9951"
     ]
    },
    {
     "name": "stderr",
     "output_type": "stream",
     "text": [
      "2023-09-27 23:22:19.355688: I tensorflow/core/data/root_dataset.cc:62] `tf.data.Options` values set are distribute_options {\n",
      "  auto_shard_policy: DATA\n",
      "}\n",
      "optimization_options {\n",
      "  apply_default_optimizations: false\n",
      "}\n",
      "threading_options {\n",
      "}\n",
      "external_state_policy: POLICY_IGNORE\n",
      "autotune_options {\n",
      "}\n",
      "warm_start: false\n",
      "\n"
     ]
    },
    {
     "name": "stdout",
     "output_type": "stream",
     "text": [
      "1907/1911 [============================>.] - ETA: 0s - loss: 0.0430 - accuracy: 0.9880 - f1_weighted: 0.9926"
     ]
    },
    {
     "name": "stderr",
     "output_type": "stream",
     "text": [
      "2023-09-27 23:22:33.730126: I tensorflow/core/data/root_dataset.cc:62] `tf.data.Options` values set are distribute_options {\n",
      "  auto_shard_policy: DATA\n",
      "}\n",
      "optimization_options {\n",
      "  apply_default_optimizations: false\n",
      "}\n",
      "threading_options {\n",
      "}\n",
      "autotune_options {\n",
      "}\n",
      "warm_start: false\n",
      "\n"
     ]
    },
    {
     "name": "stdout",
     "output_type": "stream",
     "text": [
      "1911/1911 [==============================] - 15s 8ms/step - loss: 0.0430 - accuracy: 0.9880 - f1_weighted: 0.9925 - val_loss: 0.0332 - val_accuracy: 0.9913 - val_f1_weighted: 0.9955\n",
      "Epoch 2/30\n",
      "1911/1911 [==============================] - 15s 8ms/step - loss: 0.0408 - accuracy: 0.9886 - f1_weighted: 0.9930 - val_loss: 0.0361 - val_accuracy: 0.9897 - val_f1_weighted: 0.9947\n",
      "Epoch 3/30\n",
      "1911/1911 [==============================] - 15s 8ms/step - loss: 0.0403 - accuracy: 0.9887 - f1_weighted: 0.9934 - val_loss: 0.0350 - val_accuracy: 0.9909 - val_f1_weighted: 0.9946\n",
      "Epoch 4/30\n",
      "1911/1911 [==============================] - 15s 8ms/step - loss: 0.0388 - accuracy: 0.9888 - f1_weighted: 0.9933 - val_loss: 0.0372 - val_accuracy: 0.9898 - val_f1_weighted: 0.9947\n",
      "Epoch 5/30\n",
      "1908/1911 [============================>.] - ETA: 0s - loss: 0.0382 - accuracy: 0.9891 - f1_weighted: 0.9935Restoring model weights from the end of the best epoch: 1.\n",
      "1911/1911 [==============================] - 15s 8ms/step - loss: 0.0383 - accuracy: 0.9891 - f1_weighted: 0.9934 - val_loss: 0.0365 - val_accuracy: 0.9904 - val_f1_weighted: 0.9948\n",
      "Epoch 5: early stopping\n",
      "Epoch 1/30\n",
      "  25/1911 [..............................] - ETA: 12s - loss: 0.0436 - accuracy: 0.9837 - f1_weighted: 0.9900"
     ]
    },
    {
     "name": "stderr",
     "output_type": "stream",
     "text": [
      "2023-09-27 23:23:34.948028: I tensorflow/core/data/root_dataset.cc:62] `tf.data.Options` values set are distribute_options {\n",
      "  auto_shard_policy: DATA\n",
      "}\n",
      "optimization_options {\n",
      "  apply_default_optimizations: false\n",
      "}\n",
      "threading_options {\n",
      "}\n",
      "external_state_policy: POLICY_IGNORE\n",
      "autotune_options {\n",
      "}\n",
      "warm_start: false\n",
      "\n"
     ]
    },
    {
     "name": "stdout",
     "output_type": "stream",
     "text": [
      "1906/1911 [============================>.] - ETA: 0s - loss: 0.0423 - accuracy: 0.9885 - f1_weighted: 0.9928"
     ]
    },
    {
     "name": "stderr",
     "output_type": "stream",
     "text": [
      "2023-09-27 23:23:49.277305: I tensorflow/core/data/root_dataset.cc:62] `tf.data.Options` values set are distribute_options {\n",
      "  auto_shard_policy: DATA\n",
      "}\n",
      "optimization_options {\n",
      "  apply_default_optimizations: false\n",
      "}\n",
      "threading_options {\n",
      "}\n",
      "autotune_options {\n",
      "}\n",
      "warm_start: false\n",
      "\n"
     ]
    },
    {
     "name": "stdout",
     "output_type": "stream",
     "text": [
      "1911/1911 [==============================] - 15s 8ms/step - loss: 0.0424 - accuracy: 0.9884 - f1_weighted: 0.9928 - val_loss: 0.0270 - val_accuracy: 0.9928 - val_f1_weighted: 0.9965\n",
      "Epoch 2/30\n",
      "1911/1911 [==============================] - 15s 8ms/step - loss: 0.0405 - accuracy: 0.9886 - f1_weighted: 0.9931 - val_loss: 0.0298 - val_accuracy: 0.9916 - val_f1_weighted: 0.9953\n",
      "Epoch 3/30\n",
      "1911/1911 [==============================] - 15s 8ms/step - loss: 0.0408 - accuracy: 0.9886 - f1_weighted: 0.9932 - val_loss: 0.0287 - val_accuracy: 0.9919 - val_f1_weighted: 0.9955\n",
      "Epoch 4/30\n",
      "1911/1911 [==============================] - 15s 8ms/step - loss: 0.0387 - accuracy: 0.9889 - f1_weighted: 0.9936 - val_loss: 0.0304 - val_accuracy: 0.9916 - val_f1_weighted: 0.9956\n",
      "Epoch 5/30\n",
      "1907/1911 [============================>.] - ETA: 0s - loss: 0.0384 - accuracy: 0.9891 - f1_weighted: 0.9935Restoring model weights from the end of the best epoch: 1.\n",
      "1911/1911 [==============================] - 15s 8ms/step - loss: 0.0384 - accuracy: 0.9891 - f1_weighted: 0.9935 - val_loss: 0.0317 - val_accuracy: 0.9916 - val_f1_weighted: 0.9951\n",
      "Epoch 5: early stopping\n",
      "Epoch 1/30\n",
      "  23/1911 [..............................] - ETA: 13s - loss: 0.0266 - accuracy: 0.9932 - f1_weighted: 0.9948"
     ]
    },
    {
     "name": "stderr",
     "output_type": "stream",
     "text": [
      "2023-09-27 23:24:51.353874: I tensorflow/core/data/root_dataset.cc:62] `tf.data.Options` values set are distribute_options {\n",
      "  auto_shard_policy: DATA\n",
      "}\n",
      "optimization_options {\n",
      "  apply_default_optimizations: false\n",
      "}\n",
      "threading_options {\n",
      "}\n",
      "external_state_policy: POLICY_IGNORE\n",
      "autotune_options {\n",
      "}\n",
      "warm_start: false\n",
      "\n"
     ]
    },
    {
     "name": "stdout",
     "output_type": "stream",
     "text": [
      "1911/1911 [==============================] - ETA: 0s - loss: 0.0390 - accuracy: 0.9892 - f1_weighted: 0.9933"
     ]
    },
    {
     "name": "stderr",
     "output_type": "stream",
     "text": [
      "2023-09-27 23:25:05.689816: I tensorflow/core/data/root_dataset.cc:62] `tf.data.Options` values set are distribute_options {\n",
      "  auto_shard_policy: DATA\n",
      "}\n",
      "optimization_options {\n",
      "  apply_default_optimizations: false\n",
      "}\n",
      "threading_options {\n",
      "}\n",
      "autotune_options {\n",
      "}\n",
      "warm_start: false\n",
      "\n"
     ]
    },
    {
     "name": "stdout",
     "output_type": "stream",
     "text": [
      "1911/1911 [==============================] - 15s 8ms/step - loss: 0.0390 - accuracy: 0.9892 - f1_weighted: 0.9933 - val_loss: 0.0440 - val_accuracy: 0.9869 - val_f1_weighted: 0.9927\n",
      "Epoch 2/30\n",
      "1911/1911 [==============================] - 15s 8ms/step - loss: 0.0393 - accuracy: 0.9888 - f1_weighted: 0.9934 - val_loss: 0.0448 - val_accuracy: 0.9870 - val_f1_weighted: 0.9923\n",
      "Epoch 3/30\n",
      "1911/1911 [==============================] - 15s 8ms/step - loss: 0.0367 - accuracy: 0.9900 - f1_weighted: 0.9940 - val_loss: 0.0472 - val_accuracy: 0.9863 - val_f1_weighted: 0.9922\n",
      "Epoch 4/30\n",
      "1911/1911 [==============================] - 15s 8ms/step - loss: 0.0372 - accuracy: 0.9897 - f1_weighted: 0.9939 - val_loss: 0.0455 - val_accuracy: 0.9863 - val_f1_weighted: 0.9922\n",
      "Epoch 5/30\n",
      "1911/1911 [==============================] - 16s 8ms/step - loss: 0.0361 - accuracy: 0.9902 - f1_weighted: 0.9942 - val_loss: 0.0464 - val_accuracy: 0.9866 - val_f1_weighted: 0.9923\n",
      "Epoch 6/30\n",
      "1911/1911 [==============================] - 15s 8ms/step - loss: 0.0348 - accuracy: 0.9902 - f1_weighted: 0.9940 - val_loss: 0.0475 - val_accuracy: 0.9863 - val_f1_weighted: 0.9925\n",
      "Epoch 7/30\n",
      "1911/1911 [==============================] - 15s 8ms/step - loss: 0.0343 - accuracy: 0.9902 - f1_weighted: 0.9944 - val_loss: 0.0477 - val_accuracy: 0.9859 - val_f1_weighted: 0.9924\n",
      "Epoch 8/30\n",
      "1907/1911 [============================>.] - ETA: 0s - loss: 0.0330 - accuracy: 0.9910 - f1_weighted: 0.9946Restoring model weights from the end of the best epoch: 2.\n",
      "1911/1911 [==============================] - 15s 8ms/step - loss: 0.0331 - accuracy: 0.9909 - f1_weighted: 0.9946 - val_loss: 0.0494 - val_accuracy: 0.9859 - val_f1_weighted: 0.9924\n",
      "Epoch 8: early stopping\n",
      "Epoch 1/30\n",
      "  23/1911 [..............................] - ETA: 14s - loss: 0.0310 - accuracy: 0.9932 - f1_weighted: 0.9930"
     ]
    },
    {
     "name": "stderr",
     "output_type": "stream",
     "text": [
      "2023-09-27 23:26:52.699312: I tensorflow/core/data/root_dataset.cc:62] `tf.data.Options` values set are distribute_options {\n",
      "  auto_shard_policy: DATA\n",
      "}\n",
      "optimization_options {\n",
      "  apply_default_optimizations: false\n",
      "}\n",
      "threading_options {\n",
      "}\n",
      "external_state_policy: POLICY_IGNORE\n",
      "autotune_options {\n",
      "}\n",
      "warm_start: false\n",
      "\n"
     ]
    },
    {
     "name": "stdout",
     "output_type": "stream",
     "text": [
      "1906/1911 [============================>.] - ETA: 0s - loss: 0.0389 - accuracy: 0.9893 - f1_weighted: 0.9935"
     ]
    },
    {
     "name": "stderr",
     "output_type": "stream",
     "text": [
      "2023-09-27 23:27:07.195573: I tensorflow/core/data/root_dataset.cc:62] `tf.data.Options` values set are distribute_options {\n",
      "  auto_shard_policy: DATA\n",
      "}\n",
      "optimization_options {\n",
      "  apply_default_optimizations: false\n",
      "}\n",
      "threading_options {\n",
      "}\n",
      "autotune_options {\n",
      "}\n",
      "warm_start: false\n",
      "\n"
     ]
    },
    {
     "name": "stdout",
     "output_type": "stream",
     "text": [
      "1911/1911 [==============================] - 15s 8ms/step - loss: 0.0388 - accuracy: 0.9893 - f1_weighted: 0.9935 - val_loss: 0.0284 - val_accuracy: 0.9915 - val_f1_weighted: 0.9950\n",
      "Epoch 2/30\n",
      "1911/1911 [==============================] - 15s 8ms/step - loss: 0.0382 - accuracy: 0.9894 - f1_weighted: 0.9937 - val_loss: 0.0279 - val_accuracy: 0.9921 - val_f1_weighted: 0.9951\n",
      "Epoch 3/30\n",
      "1911/1911 [==============================] - 15s 8ms/step - loss: 0.0372 - accuracy: 0.9896 - f1_weighted: 0.9941 - val_loss: 0.0287 - val_accuracy: 0.9919 - val_f1_weighted: 0.9951\n",
      "Epoch 4/30\n",
      "1911/1911 [==============================] - 15s 8ms/step - loss: 0.0361 - accuracy: 0.9900 - f1_weighted: 0.9940 - val_loss: 0.0303 - val_accuracy: 0.9918 - val_f1_weighted: 0.9950\n",
      "Epoch 5/30\n",
      "1911/1911 [==============================] - 16s 8ms/step - loss: 0.0358 - accuracy: 0.9900 - f1_weighted: 0.9940 - val_loss: 0.0305 - val_accuracy: 0.9909 - val_f1_weighted: 0.9945\n",
      "Epoch 6/30\n",
      "1905/1911 [============================>.] - ETA: 0s - loss: 0.0355 - accuracy: 0.9899 - f1_weighted: 0.9939Restoring model weights from the end of the best epoch: 2.\n",
      "1911/1911 [==============================] - 15s 8ms/step - loss: 0.0355 - accuracy: 0.9899 - f1_weighted: 0.9939 - val_loss: 0.0317 - val_accuracy: 0.9906 - val_f1_weighted: 0.9945\n",
      "Epoch 6: early stopping\n",
      "Epoch 1/30\n",
      "  24/1911 [..............................] - ETA: 13s - loss: 0.0450 - accuracy: 0.9883 - f1_weighted: 0.9933  "
     ]
    },
    {
     "name": "stderr",
     "output_type": "stream",
     "text": [
      "2023-09-27 23:28:24.912954: I tensorflow/core/data/root_dataset.cc:62] `tf.data.Options` values set are distribute_options {\n",
      "  auto_shard_policy: DATA\n",
      "}\n",
      "optimization_options {\n",
      "  apply_default_optimizations: false\n",
      "}\n",
      "threading_options {\n",
      "}\n",
      "external_state_policy: POLICY_IGNORE\n",
      "autotune_options {\n",
      "}\n",
      "warm_start: false\n",
      "\n"
     ]
    },
    {
     "name": "stdout",
     "output_type": "stream",
     "text": [
      "1905/1911 [============================>.] - ETA: 0s - loss: 0.0379 - accuracy: 0.9895 - f1_weighted: 0.9939"
     ]
    },
    {
     "name": "stderr",
     "output_type": "stream",
     "text": [
      "2023-09-27 23:28:39.587060: I tensorflow/core/data/root_dataset.cc:62] `tf.data.Options` values set are distribute_options {\n",
      "  auto_shard_policy: DATA\n",
      "}\n",
      "optimization_options {\n",
      "  apply_default_optimizations: false\n",
      "}\n",
      "threading_options {\n",
      "}\n",
      "autotune_options {\n",
      "}\n",
      "warm_start: false\n",
      "\n"
     ]
    },
    {
     "name": "stdout",
     "output_type": "stream",
     "text": [
      "1911/1911 [==============================] - 15s 8ms/step - loss: 0.0382 - accuracy: 0.9894 - f1_weighted: 0.9938 - val_loss: 0.0270 - val_accuracy: 0.9919 - val_f1_weighted: 0.9954\n",
      "Epoch 2/30\n",
      "1911/1911 [==============================] - 15s 8ms/step - loss: 0.0376 - accuracy: 0.9895 - f1_weighted: 0.9937 - val_loss: 0.0284 - val_accuracy: 0.9916 - val_f1_weighted: 0.9954\n",
      "Epoch 3/30\n",
      "1911/1911 [==============================] - 15s 8ms/step - loss: 0.0361 - accuracy: 0.9900 - f1_weighted: 0.9939 - val_loss: 0.0292 - val_accuracy: 0.9913 - val_f1_weighted: 0.9952\n",
      "Epoch 4/30\n",
      "1911/1911 [==============================] - 15s 8ms/step - loss: 0.0344 - accuracy: 0.9903 - f1_weighted: 0.9942 - val_loss: 0.0294 - val_accuracy: 0.9907 - val_f1_weighted: 0.9945\n",
      "Epoch 5/30\n",
      "1905/1911 [============================>.] - ETA: 0s - loss: 0.0339 - accuracy: 0.9905 - f1_weighted: 0.9945Restoring model weights from the end of the best epoch: 1.\n",
      "1911/1911 [==============================] - 15s 8ms/step - loss: 0.0341 - accuracy: 0.9904 - f1_weighted: 0.9944 - val_loss: 0.0304 - val_accuracy: 0.9907 - val_f1_weighted: 0.9946\n",
      "Epoch 5: early stopping\n",
      "Epoch 1/30\n",
      "  22/1911 [..............................] - ETA: 14s - loss: 0.0362 - accuracy: 0.9915 - f1_weighted: 0.9944"
     ]
    },
    {
     "name": "stderr",
     "output_type": "stream",
     "text": [
      "2023-09-27 23:29:40.881111: I tensorflow/core/data/root_dataset.cc:62] `tf.data.Options` values set are distribute_options {\n",
      "  auto_shard_policy: DATA\n",
      "}\n",
      "optimization_options {\n",
      "  apply_default_optimizations: false\n",
      "}\n",
      "threading_options {\n",
      "}\n",
      "external_state_policy: POLICY_IGNORE\n",
      "autotune_options {\n",
      "}\n",
      "warm_start: false\n",
      "\n"
     ]
    },
    {
     "name": "stdout",
     "output_type": "stream",
     "text": [
      "1909/1911 [============================>.] - ETA: 0s - loss: 0.0355 - accuracy: 0.9898 - f1_weighted: 0.9941"
     ]
    },
    {
     "name": "stderr",
     "output_type": "stream",
     "text": [
      "2023-09-27 23:29:55.285612: I tensorflow/core/data/root_dataset.cc:62] `tf.data.Options` values set are distribute_options {\n",
      "  auto_shard_policy: DATA\n",
      "}\n",
      "optimization_options {\n",
      "  apply_default_optimizations: false\n",
      "}\n",
      "threading_options {\n",
      "}\n",
      "autotune_options {\n",
      "}\n",
      "warm_start: false\n",
      "\n"
     ]
    },
    {
     "name": "stdout",
     "output_type": "stream",
     "text": [
      "1911/1911 [==============================] - 15s 8ms/step - loss: 0.0355 - accuracy: 0.9898 - f1_weighted: 0.9941 - val_loss: 0.0319 - val_accuracy: 0.9922 - val_f1_weighted: 0.9965\n",
      "Epoch 2/30\n",
      "1911/1911 [==============================] - 15s 8ms/step - loss: 0.0354 - accuracy: 0.9901 - f1_weighted: 0.9941 - val_loss: 0.0321 - val_accuracy: 0.9916 - val_f1_weighted: 0.9960\n",
      "Epoch 3/30\n",
      "1911/1911 [==============================] - 15s 8ms/step - loss: 0.0350 - accuracy: 0.9901 - f1_weighted: 0.9943 - val_loss: 0.0333 - val_accuracy: 0.9913 - val_f1_weighted: 0.9957\n",
      "Epoch 4/30\n",
      "1911/1911 [==============================] - 15s 8ms/step - loss: 0.0336 - accuracy: 0.9903 - f1_weighted: 0.9944 - val_loss: 0.0338 - val_accuracy: 0.9910 - val_f1_weighted: 0.9955\n",
      "Epoch 5/30\n",
      "1906/1911 [============================>.] - ETA: 0s - loss: 0.0324 - accuracy: 0.9913 - f1_weighted: 0.9949Restoring model weights from the end of the best epoch: 1.\n",
      "1911/1911 [==============================] - 15s 8ms/step - loss: 0.0324 - accuracy: 0.9913 - f1_weighted: 0.9949 - val_loss: 0.0359 - val_accuracy: 0.9903 - val_f1_weighted: 0.9954\n",
      "Epoch 5: early stopping\n",
      "Epoch 1/30\n",
      "  23/1911 [..............................] - ETA: 13s - loss: 0.0421 - accuracy: 0.9864 - f1_weighted: 0.9908  "
     ]
    },
    {
     "name": "stderr",
     "output_type": "stream",
     "text": [
      "2023-09-27 23:30:55.915570: I tensorflow/core/data/root_dataset.cc:62] `tf.data.Options` values set are distribute_options {\n",
      "  auto_shard_policy: DATA\n",
      "}\n",
      "optimization_options {\n",
      "  apply_default_optimizations: false\n",
      "}\n",
      "threading_options {\n",
      "}\n",
      "external_state_policy: POLICY_IGNORE\n",
      "autotune_options {\n",
      "}\n",
      "warm_start: false\n",
      "\n"
     ]
    },
    {
     "name": "stdout",
     "output_type": "stream",
     "text": [
      "1908/1911 [============================>.] - ETA: 0s - loss: 0.0368 - accuracy: 0.9898 - f1_weighted: 0.9940"
     ]
    },
    {
     "name": "stderr",
     "output_type": "stream",
     "text": [
      "2023-09-27 23:31:10.510753: I tensorflow/core/data/root_dataset.cc:62] `tf.data.Options` values set are distribute_options {\n",
      "  auto_shard_policy: DATA\n",
      "}\n",
      "optimization_options {\n",
      "  apply_default_optimizations: false\n",
      "}\n",
      "threading_options {\n",
      "}\n",
      "autotune_options {\n",
      "}\n",
      "warm_start: false\n",
      "\n"
     ]
    },
    {
     "name": "stdout",
     "output_type": "stream",
     "text": [
      "1911/1911 [==============================] - 15s 8ms/step - loss: 0.0367 - accuracy: 0.9898 - f1_weighted: 0.9940 - val_loss: 0.0293 - val_accuracy: 0.9922 - val_f1_weighted: 0.9952\n",
      "Epoch 2/30\n",
      "1911/1911 [==============================] - 15s 8ms/step - loss: 0.0349 - accuracy: 0.9904 - f1_weighted: 0.9943 - val_loss: 0.0306 - val_accuracy: 0.9926 - val_f1_weighted: 0.9960\n",
      "Epoch 3/30\n",
      "1911/1911 [==============================] - 15s 8ms/step - loss: 0.0343 - accuracy: 0.9904 - f1_weighted: 0.9944 - val_loss: 0.0303 - val_accuracy: 0.9922 - val_f1_weighted: 0.9954\n",
      "Epoch 4/30\n",
      "1911/1911 [==============================] - 15s 8ms/step - loss: 0.0339 - accuracy: 0.9905 - f1_weighted: 0.9942 - val_loss: 0.0322 - val_accuracy: 0.9915 - val_f1_weighted: 0.9951\n",
      "Epoch 5/30\n",
      "1911/1911 [==============================] - 15s 8ms/step - loss: 0.0335 - accuracy: 0.9905 - f1_weighted: 0.9946 - val_loss: 0.0334 - val_accuracy: 0.9910 - val_f1_weighted: 0.9953\n",
      "Epoch 6/30\n",
      "1905/1911 [============================>.] - ETA: 0s - loss: 0.0319 - accuracy: 0.9910 - f1_weighted: 0.9947Restoring model weights from the end of the best epoch: 2.\n",
      "1911/1911 [==============================] - 15s 8ms/step - loss: 0.0319 - accuracy: 0.9910 - f1_weighted: 0.9947 - val_loss: 0.0330 - val_accuracy: 0.9915 - val_f1_weighted: 0.9953\n",
      "Epoch 6: early stopping\n",
      "Epoch 1/30\n",
      "  21/1911 [..............................] - ETA: 15s - loss: 0.0350 - accuracy: 0.9866 - f1_weighted: 0.9907"
     ]
    },
    {
     "name": "stderr",
     "output_type": "stream",
     "text": [
      "2023-09-27 23:32:27.021117: I tensorflow/core/data/root_dataset.cc:62] `tf.data.Options` values set are distribute_options {\n",
      "  auto_shard_policy: DATA\n",
      "}\n",
      "optimization_options {\n",
      "  apply_default_optimizations: false\n",
      "}\n",
      "threading_options {\n",
      "}\n",
      "external_state_policy: POLICY_IGNORE\n",
      "autotune_options {\n",
      "}\n",
      "warm_start: false\n",
      "\n"
     ]
    },
    {
     "name": "stdout",
     "output_type": "stream",
     "text": [
      "1907/1911 [============================>.] - ETA: 0s - loss: 0.0349 - accuracy: 0.9902 - f1_weighted: 0.9942"
     ]
    },
    {
     "name": "stderr",
     "output_type": "stream",
     "text": [
      "2023-09-27 23:32:42.042036: I tensorflow/core/data/root_dataset.cc:62] `tf.data.Options` values set are distribute_options {\n",
      "  auto_shard_policy: DATA\n",
      "}\n",
      "optimization_options {\n",
      "  apply_default_optimizations: false\n",
      "}\n",
      "threading_options {\n",
      "}\n",
      "autotune_options {\n",
      "}\n",
      "warm_start: false\n",
      "\n"
     ]
    },
    {
     "name": "stdout",
     "output_type": "stream",
     "text": [
      "1911/1911 [==============================] - 16s 8ms/step - loss: 0.0348 - accuracy: 0.9902 - f1_weighted: 0.9942 - val_loss: 0.0286 - val_accuracy: 0.9922 - val_f1_weighted: 0.9957\n",
      "Epoch 2/30\n",
      "1911/1911 [==============================] - 15s 8ms/step - loss: 0.0332 - accuracy: 0.9905 - f1_weighted: 0.9944 - val_loss: 0.0307 - val_accuracy: 0.9919 - val_f1_weighted: 0.9953\n",
      "Epoch 3/30\n",
      "1911/1911 [==============================] - 14s 8ms/step - loss: 0.0326 - accuracy: 0.9905 - f1_weighted: 0.9946 - val_loss: 0.0319 - val_accuracy: 0.9919 - val_f1_weighted: 0.9955\n",
      "Epoch 4/30\n",
      "1911/1911 [==============================] - 14s 8ms/step - loss: 0.0321 - accuracy: 0.9909 - f1_weighted: 0.9945 - val_loss: 0.0329 - val_accuracy: 0.9919 - val_f1_weighted: 0.9952\n",
      "Epoch 5/30\n",
      "1909/1911 [============================>.] - ETA: 0s - loss: 0.0315 - accuracy: 0.9912 - f1_weighted: 0.9949Restoring model weights from the end of the best epoch: 1.\n",
      "1911/1911 [==============================] - 15s 8ms/step - loss: 0.0315 - accuracy: 0.9912 - f1_weighted: 0.9949 - val_loss: 0.0334 - val_accuracy: 0.9916 - val_f1_weighted: 0.9953\n",
      "Epoch 5: early stopping\n",
      "Epoch 1/30\n",
      "  24/1911 [..............................] - ETA: 13s - loss: 0.0471 - accuracy: 0.9883 - f1_weighted: 0.9913  "
     ]
    },
    {
     "name": "stderr",
     "output_type": "stream",
     "text": [
      "2023-09-27 23:33:42.846284: I tensorflow/core/data/root_dataset.cc:62] `tf.data.Options` values set are distribute_options {\n",
      "  auto_shard_policy: DATA\n",
      "}\n",
      "optimization_options {\n",
      "  apply_default_optimizations: false\n",
      "}\n",
      "threading_options {\n",
      "}\n",
      "external_state_policy: POLICY_IGNORE\n",
      "autotune_options {\n",
      "}\n",
      "warm_start: false\n",
      "\n"
     ]
    },
    {
     "name": "stdout",
     "output_type": "stream",
     "text": [
      "1910/1911 [============================>.] - ETA: 0s - loss: 0.0355 - accuracy: 0.9900 - f1_weighted: 0.9939"
     ]
    },
    {
     "name": "stderr",
     "output_type": "stream",
     "text": [
      "2023-09-27 23:33:57.152585: I tensorflow/core/data/root_dataset.cc:62] `tf.data.Options` values set are distribute_options {\n",
      "  auto_shard_policy: DATA\n",
      "}\n",
      "optimization_options {\n",
      "  apply_default_optimizations: false\n",
      "}\n",
      "threading_options {\n",
      "}\n",
      "autotune_options {\n",
      "}\n",
      "warm_start: false\n",
      "\n"
     ]
    },
    {
     "name": "stdout",
     "output_type": "stream",
     "text": [
      "1911/1911 [==============================] - 15s 8ms/step - loss: 0.0355 - accuracy: 0.9900 - f1_weighted: 0.9939 - val_loss: 0.0213 - val_accuracy: 0.9938 - val_f1_weighted: 0.9968\n",
      "Epoch 2/30\n",
      "1911/1911 [==============================] - 15s 8ms/step - loss: 0.0328 - accuracy: 0.9911 - f1_weighted: 0.9948 - val_loss: 0.0207 - val_accuracy: 0.9938 - val_f1_weighted: 0.9970\n",
      "Epoch 3/30\n",
      "1911/1911 [==============================] - 15s 8ms/step - loss: 0.0328 - accuracy: 0.9909 - f1_weighted: 0.9946 - val_loss: 0.0219 - val_accuracy: 0.9938 - val_f1_weighted: 0.9968\n",
      "Epoch 4/30\n",
      "1911/1911 [==============================] - 15s 8ms/step - loss: 0.0331 - accuracy: 0.9908 - f1_weighted: 0.9946 - val_loss: 0.0215 - val_accuracy: 0.9935 - val_f1_weighted: 0.9966\n",
      "Epoch 5/30\n",
      "1909/1911 [============================>.] - ETA: 0s - loss: 0.0316 - accuracy: 0.9912 - f1_weighted: 0.9951Restoring model weights from the end of the best epoch: 1.\n",
      "1911/1911 [==============================] - 15s 8ms/step - loss: 0.0316 - accuracy: 0.9912 - f1_weighted: 0.9951 - val_loss: 0.0239 - val_accuracy: 0.9931 - val_f1_weighted: 0.9966\n",
      "Epoch 5: early stopping\n",
      "Epoch 1/30\n",
      "  23/1911 [..............................] - ETA: 13s - loss: 0.0662 - accuracy: 0.9891 - f1_weighted: 0.9953"
     ]
    },
    {
     "name": "stderr",
     "output_type": "stream",
     "text": [
      "2023-09-27 23:34:58.779128: I tensorflow/core/data/root_dataset.cc:62] `tf.data.Options` values set are distribute_options {\n",
      "  auto_shard_policy: DATA\n",
      "}\n",
      "optimization_options {\n",
      "  apply_default_optimizations: false\n",
      "}\n",
      "threading_options {\n",
      "}\n",
      "external_state_policy: POLICY_IGNORE\n",
      "autotune_options {\n",
      "}\n",
      "warm_start: false\n",
      "\n"
     ]
    },
    {
     "name": "stdout",
     "output_type": "stream",
     "text": [
      "1906/1911 [============================>.] - ETA: 0s - loss: 0.0342 - accuracy: 0.9903 - f1_weighted: 0.9944"
     ]
    },
    {
     "name": "stderr",
     "output_type": "stream",
     "text": [
      "2023-09-27 23:35:13.125073: I tensorflow/core/data/root_dataset.cc:62] `tf.data.Options` values set are distribute_options {\n",
      "  auto_shard_policy: DATA\n",
      "}\n",
      "optimization_options {\n",
      "  apply_default_optimizations: false\n",
      "}\n",
      "threading_options {\n",
      "}\n",
      "autotune_options {\n",
      "}\n",
      "warm_start: false\n",
      "\n"
     ]
    },
    {
     "name": "stdout",
     "output_type": "stream",
     "text": [
      "1911/1911 [==============================] - 15s 8ms/step - loss: 0.0341 - accuracy: 0.9903 - f1_weighted: 0.9944 - val_loss: 0.0269 - val_accuracy: 0.9932 - val_f1_weighted: 0.9962\n",
      "Epoch 2/30\n",
      "1911/1911 [==============================] - 15s 8ms/step - loss: 0.0331 - accuracy: 0.9909 - f1_weighted: 0.9946 - val_loss: 0.0275 - val_accuracy: 0.9928 - val_f1_weighted: 0.9964\n",
      "Epoch 3/30\n",
      "1911/1911 [==============================] - 15s 8ms/step - loss: 0.0308 - accuracy: 0.9913 - f1_weighted: 0.9950 - val_loss: 0.0289 - val_accuracy: 0.9926 - val_f1_weighted: 0.9961\n",
      "Epoch 4/30\n",
      "1911/1911 [==============================] - 15s 8ms/step - loss: 0.0302 - accuracy: 0.9918 - f1_weighted: 0.9951 - val_loss: 0.0288 - val_accuracy: 0.9925 - val_f1_weighted: 0.9958\n",
      "Epoch 5/30\n",
      "1908/1911 [============================>.] - ETA: 0s - loss: 0.0303 - accuracy: 0.9912 - f1_weighted: 0.9948Restoring model weights from the end of the best epoch: 1.\n",
      "1911/1911 [==============================] - 15s 8ms/step - loss: 0.0304 - accuracy: 0.9912 - f1_weighted: 0.9948 - val_loss: 0.0296 - val_accuracy: 0.9921 - val_f1_weighted: 0.9957\n",
      "Epoch 5: early stopping\n",
      "Epoch 1/30\n",
      "  23/1911 [..............................] - ETA: 14s - loss: 0.0312 - accuracy: 0.9891 - f1_weighted: 0.9938"
     ]
    },
    {
     "name": "stderr",
     "output_type": "stream",
     "text": [
      "2023-09-27 23:36:15.309455: I tensorflow/core/data/root_dataset.cc:62] `tf.data.Options` values set are distribute_options {\n",
      "  auto_shard_policy: DATA\n",
      "}\n",
      "optimization_options {\n",
      "  apply_default_optimizations: false\n",
      "}\n",
      "threading_options {\n",
      "}\n",
      "external_state_policy: POLICY_IGNORE\n",
      "autotune_options {\n",
      "}\n",
      "warm_start: false\n",
      "\n"
     ]
    },
    {
     "name": "stdout",
     "output_type": "stream",
     "text": [
      "1904/1911 [============================>.] - ETA: 0s - loss: 0.0321 - accuracy: 0.9910 - f1_weighted: 0.9946"
     ]
    },
    {
     "name": "stderr",
     "output_type": "stream",
     "text": [
      "2023-09-27 23:36:30.225334: I tensorflow/core/data/root_dataset.cc:62] `tf.data.Options` values set are distribute_options {\n",
      "  auto_shard_policy: DATA\n",
      "}\n",
      "optimization_options {\n",
      "  apply_default_optimizations: false\n",
      "}\n",
      "threading_options {\n",
      "}\n",
      "autotune_options {\n",
      "}\n",
      "warm_start: false\n",
      "\n"
     ]
    },
    {
     "name": "stdout",
     "output_type": "stream",
     "text": [
      "1911/1911 [==============================] - 16s 8ms/step - loss: 0.0321 - accuracy: 0.9910 - f1_weighted: 0.9946 - val_loss: 0.0256 - val_accuracy: 0.9925 - val_f1_weighted: 0.9960\n",
      "Epoch 2/30\n",
      "1911/1911 [==============================] - 15s 8ms/step - loss: 0.0325 - accuracy: 0.9911 - f1_weighted: 0.9947 - val_loss: 0.0250 - val_accuracy: 0.9929 - val_f1_weighted: 0.9967\n",
      "Epoch 3/30\n",
      "1911/1911 [==============================] - 15s 8ms/step - loss: 0.0314 - accuracy: 0.9911 - f1_weighted: 0.9947 - val_loss: 0.0260 - val_accuracy: 0.9931 - val_f1_weighted: 0.9965\n",
      "Epoch 4/30\n",
      "1911/1911 [==============================] - 15s 8ms/step - loss: 0.0310 - accuracy: 0.9915 - f1_weighted: 0.9951 - val_loss: 0.0278 - val_accuracy: 0.9925 - val_f1_weighted: 0.9964\n",
      "Epoch 5/30\n",
      "1911/1911 [==============================] - 15s 8ms/step - loss: 0.0300 - accuracy: 0.9918 - f1_weighted: 0.9950 - val_loss: 0.0273 - val_accuracy: 0.9929 - val_f1_weighted: 0.9965\n",
      "Epoch 6/30\n",
      "1911/1911 [==============================] - 15s 8ms/step - loss: 0.0303 - accuracy: 0.9915 - f1_weighted: 0.9947 - val_loss: 0.0291 - val_accuracy: 0.9923 - val_f1_weighted: 0.9963\n",
      "Epoch 7/30\n",
      "1906/1911 [============================>.] - ETA: 0s - loss: 0.0292 - accuracy: 0.9920 - f1_weighted: 0.9953Restoring model weights from the end of the best epoch: 3.\n",
      "1911/1911 [==============================] - 15s 8ms/step - loss: 0.0293 - accuracy: 0.9920 - f1_weighted: 0.9953 - val_loss: 0.0288 - val_accuracy: 0.9921 - val_f1_weighted: 0.9959\n",
      "Epoch 7: early stopping\n",
      "Epoch 1/30\n",
      "  21/1911 [..............................] - ETA: 14s - loss: 0.0319 - accuracy: 0.9911 - f1_weighted: 0.9958  "
     ]
    },
    {
     "name": "stderr",
     "output_type": "stream",
     "text": [
      "2023-09-27 23:38:03.456277: I tensorflow/core/data/root_dataset.cc:62] `tf.data.Options` values set are distribute_options {\n",
      "  auto_shard_policy: DATA\n",
      "}\n",
      "optimization_options {\n",
      "  apply_default_optimizations: false\n",
      "}\n",
      "threading_options {\n",
      "}\n",
      "external_state_policy: POLICY_IGNORE\n",
      "autotune_options {\n",
      "}\n",
      "warm_start: false\n",
      "\n"
     ]
    },
    {
     "name": "stdout",
     "output_type": "stream",
     "text": [
      "1906/1911 [============================>.] - ETA: 0s - loss: 0.0311 - accuracy: 0.9913 - f1_weighted: 0.9951"
     ]
    },
    {
     "name": "stderr",
     "output_type": "stream",
     "text": [
      "2023-09-27 23:38:17.963328: I tensorflow/core/data/root_dataset.cc:62] `tf.data.Options` values set are distribute_options {\n",
      "  auto_shard_policy: DATA\n",
      "}\n",
      "optimization_options {\n",
      "  apply_default_optimizations: false\n",
      "}\n",
      "threading_options {\n",
      "}\n",
      "autotune_options {\n",
      "}\n",
      "warm_start: false\n",
      "\n"
     ]
    },
    {
     "name": "stdout",
     "output_type": "stream",
     "text": [
      "1911/1911 [==============================] - 15s 8ms/step - loss: 0.0310 - accuracy: 0.9913 - f1_weighted: 0.9951 - val_loss: 0.0196 - val_accuracy: 0.9950 - val_f1_weighted: 0.9974\n",
      "Epoch 2/30\n",
      "1911/1911 [==============================] - 16s 8ms/step - loss: 0.0306 - accuracy: 0.9913 - f1_weighted: 0.9949 - val_loss: 0.0207 - val_accuracy: 0.9941 - val_f1_weighted: 0.9972\n",
      "Epoch 3/30\n",
      "1911/1911 [==============================] - 16s 9ms/step - loss: 0.0299 - accuracy: 0.9917 - f1_weighted: 0.9952 - val_loss: 0.0219 - val_accuracy: 0.9944 - val_f1_weighted: 0.9969\n",
      "Epoch 4/30\n",
      "1911/1911 [==============================] - 16s 8ms/step - loss: 0.0289 - accuracy: 0.9916 - f1_weighted: 0.9951 - val_loss: 0.0203 - val_accuracy: 0.9946 - val_f1_weighted: 0.9968\n",
      "Epoch 5/30\n",
      "1909/1911 [============================>.] - ETA: 0s - loss: 0.0287 - accuracy: 0.9919 - f1_weighted: 0.9953Restoring model weights from the end of the best epoch: 1.\n",
      "1911/1911 [==============================] - 15s 8ms/step - loss: 0.0287 - accuracy: 0.9920 - f1_weighted: 0.9953 - val_loss: 0.0214 - val_accuracy: 0.9946 - val_f1_weighted: 0.9974\n",
      "Epoch 5: early stopping\n"
     ]
    }
   ],
   "source": [
    "from sklearn.model_selection import StratifiedKFold\n",
    "kfold = StratifiedKFold(n_splits=10,)\n",
    "\n",
    "for h in range(0,2):\n",
    "    i=0\n",
    "    for train_index, val_index in kfold.split(np.zeros(len(y_train)), y_train):\n",
    "        \n",
    "        X1_train_fold, X1_val_fold = X1_train[train_index], X1_train[val_index]\n",
    "        X2_train_fold, X2_val_fold = X2_train[train_index], X2_train[val_index]\n",
    "        X3_train_fold, X3_val_fold = X3_train[train_index], X3_train[val_index]\n",
    "        X4_train_fold, X4_val_fold = X4_train[train_index], X4_train[val_index]\n",
    "        X5_train_fold, X5_val_fold = X5_train[train_index], X5_train[val_index]\n",
    "        X6_train_fold, X6_val_fold = X6_train[train_index], X6_train[val_index]\n",
    "        \n",
    "        y_train_fold, y_val_fold = y_train[train_index], y_train[val_index]\n",
    "\n",
    "        if(i==0):\n",
    "            patience = 4 #6\n",
    "        else:\n",
    "            patience = 3 #4\n",
    "        early_stopper = tf.keras.callbacks.EarlyStopping(\n",
    "                monitor='val_accuracy', mode='auto', patience=patience, \n",
    "                verbose=1, restore_best_weights=True\n",
    "            ) \n",
    "        i+=1\n",
    "        model.fit([X1_train_fold, X2_train_fold, X3_train_fold, X4_train_fold, X5_train_fold, X6_train_fold], y_train_fold, epochs=30, batch_size=32, validation_data=([X1_val_fold, X2_val_fold,X3_val_fold,X4_val_fold,X5_val_fold,X6_val_fold], y_val_fold),callbacks=[early_stopper])"
   ]
  },
  {
   "cell_type": "code",
   "execution_count": 13,
   "metadata": {},
   "outputs": [
    {
     "name": "stdout",
     "output_type": "stream",
     "text": [
      " 52/531 [=>............................] - ETA: 1s"
     ]
    },
    {
     "name": "stderr",
     "output_type": "stream",
     "text": [
      "2023-09-27 23:41:48.047278: I tensorflow/core/data/root_dataset.cc:62] `tf.data.Options` values set are distribute_options {\n",
      "  auto_shard_policy: DATA\n",
      "}\n",
      "optimization_options {\n",
      "  apply_default_optimizations: false\n",
      "}\n",
      "threading_options {\n",
      "}\n",
      "autotune_options {\n",
      "}\n",
      "warm_start: false\n",
      "\n"
     ]
    },
    {
     "name": "stdout",
     "output_type": "stream",
     "text": [
      "531/531 [==============================] - 1s 2ms/step\n",
      "weighted F1 score: 0.9064338969906213\n"
     ]
    },
    {
     "data": {
      "image/png": "[encoded data removed]",
      "text/plain": [
       "<Figure size 1000x1000 with 2 Axes>"
      ]
     },
     "metadata": {},
     "output_type": "display_data"
    }
   ],
   "source": [
    "y_pred = model.predict([X1_test, X2_test,X3_test,X4_test,X5_test,X6_test])\n",
    "y_pred_ids = np.argmax(y_pred, axis=-1)\n",
    "\n",
    "trainer.evaluateTestResults(y_test,y_pred_ids)"
   ]
  },
  {
   "cell_type": "code",
   "execution_count": 40,
   "metadata": {},
   "outputs": [
    {
     "name": "stdout",
     "output_type": "stream",
     "text": [
      " 65/531 [==>...........................] - ETA: 1s"
     ]
    },
    {
     "name": "stderr",
     "output_type": "stream",
     "text": [
      "2023-09-27 22:00:01.162343: I tensorflow/core/data/root_dataset.cc:62] `tf.data.Options` values set are distribute_options {\n",
      "  auto_shard_policy: DATA\n",
      "}\n",
      "optimization_options {\n",
      "  apply_default_optimizations: false\n",
      "}\n",
      "threading_options {\n",
      "}\n",
      "autotune_options {\n",
      "}\n",
      "warm_start: false\n",
      "\n"
     ]
    },
    {
     "name": "stdout",
     "output_type": "stream",
     "text": [
      "531/531 [==============================] - 1s 2ms/step\n",
      "weighted F1 score: 0.9070935814957617\n"
     ]
    },
    {
     "data": {
      "image/png": "[encoded data removed]",
      "text/plain": [
       "<Figure size 1000x1000 with 2 Axes>"
      ]
     },
     "metadata": {},
     "output_type": "display_data"
    }
   ],
   "source": [
    "y_pred = model.predict([X1_test, X2_test,X3_test,X4_test,X5_test,X6_test])\n",
    "y_pred_ids = np.argmax(y_pred, axis=-1)\n",
    "\n",
    "trainer.evaluateTestResults(y_test,y_pred_ids)"
   ]
  },
  {
   "cell_type": "code",
   "execution_count": null,
   "metadata": {},
   "outputs": [
    {
     "name": "stdout",
     "output_type": "stream",
     "text": [
      "Epoch 1/10\n",
      "  26/5435 [..............................] - ETA: 34s - loss: 0.1079 - accuracy: 0.9654"
     ]
    },
    {
     "name": "stderr",
     "output_type": "stream",
     "text": [
      "2023-09-25 11:34:52.936126: I tensorflow/core/data/root_dataset.cc:62] `tf.data.Options` values set are distribute_options {\n",
      "  auto_shard_policy: DATA\n",
      "}\n",
      "optimization_options {\n",
      "  apply_default_optimizations: false\n",
      "}\n",
      "threading_options {\n",
      "}\n",
      "external_state_policy: POLICY_IGNORE\n",
      "autotune_options {\n",
      "}\n",
      "warm_start: false\n",
      "\n"
     ]
    },
    {
     "name": "stdout",
     "output_type": "stream",
     "text": [
      "5427/5435 [============================>.] - ETA: 0s - loss: 0.0557 - accuracy: 0.9845"
     ]
    },
    {
     "name": "stderr",
     "output_type": "stream",
     "text": [
      "2023-09-25 11:35:24.270413: I tensorflow/core/data/root_dataset.cc:62] `tf.data.Options` values set are distribute_options {\n",
      "  auto_shard_policy: DATA\n",
      "}\n",
      "optimization_options {\n",
      "  apply_default_optimizations: false\n",
      "}\n",
      "threading_options {\n",
      "}\n",
      "autotune_options {\n",
      "}\n",
      "warm_start: false\n",
      "\n"
     ]
    },
    {
     "name": "stdout",
     "output_type": "stream",
     "text": [
      "5435/5435 [==============================] - 35s 6ms/step - loss: 0.0557 - accuracy: 0.9845 - val_loss: 0.2507 - val_accuracy: 0.9451\n",
      "Epoch 2/10\n",
      "5435/5435 [==============================] - 34s 6ms/step - loss: 0.0534 - accuracy: 0.9847 - val_loss: 0.2515 - val_accuracy: 0.9453\n",
      "Epoch 3/10\n",
      "5435/5435 [==============================] - 33s 6ms/step - loss: 0.0529 - accuracy: 0.9845 - val_loss: 0.2536 - val_accuracy: 0.9458\n",
      "Epoch 4/10\n",
      "5435/5435 [==============================] - 33s 6ms/step - loss: 0.0493 - accuracy: 0.9860 - val_loss: 0.2539 - val_accuracy: 0.9458\n",
      "Epoch 5/10\n",
      "5435/5435 [==============================] - 40s 7ms/step - loss: 0.0502 - accuracy: 0.9857 - val_loss: 0.2548 - val_accuracy: 0.9464\n",
      "Epoch 6/10\n",
      "5435/5435 [==============================] - 34s 6ms/step - loss: 0.0472 - accuracy: 0.9872 - val_loss: 0.2555 - val_accuracy: 0.9464\n",
      "Epoch 7/10\n",
      "5429/5435 [============================>.] - ETA: 0s - loss: 0.0477 - accuracy: 0.9869Restoring model weights from the end of the best epoch: 5.\n",
      "5435/5435 [==============================] - 35s 6ms/step - loss: 0.0477 - accuracy: 0.9869 - val_loss: 0.2562 - val_accuracy: 0.9461\n",
      "Epoch 7: early stopping\n"
     ]
    },
    {
     "data": {
      "text/plain": [
       "<keras.src.callbacks.History at 0x7f8c0bd3a5b0>"
      ]
     },
     "execution_count": 13,
     "metadata": {},
     "output_type": "execute_result"
    }
   ],
   "source": [
    "early_stopper = tf.keras.callbacks.EarlyStopping(\n",
    "            monitor='val_accuracy', mode='auto', patience=2, \n",
    "            verbose=1, restore_best_weights=True\n",
    "        ) \n",
    "\n",
    "model.fit([X1_train, X2_train, X3_train], y_train, epochs=10, batch_size=10, validation_data=([X1_val, X2_val,X3_val], y_val),callbacks=[early_stopper])"
   ]
  },
  {
   "cell_type": "markdown",
   "metadata": {},
   "source": []
  }
 ],
 "metadata": {
  "kernelspec": {
   "display_name": "Python 3",
   "language": "python",
   "name": "python3"
  },
  "language_info": {
   "codemirror_mode": {
    "name": "ipython",
    "version": 3
   },
   "file_extension": ".py",
   "mimetype": "text/x-python",
   "name": "python",
   "nbconvert_exporter": "python",
   "pygments_lexer": "ipython3",
   "version": "3.9.17"
  },
  "orig_nbformat": 4
 },
 "nbformat": 4,
 "nbformat_minor": 2
}
