{
 "cells": [
  {
   "cell_type": "markdown",
   "metadata": {},
   "source": [
    "Traduction du texte avec Translators et google."
   ]
  },
  {
   "cell_type": "code",
   "execution_count": 1,
   "metadata": {},
   "outputs": [
    {
     "name": "stderr",
     "output_type": "stream",
     "text": [
      "2023-09-07 23:26:06.445208: I tensorflow/core/util/port.cc:110] oneDNN custom operations are on. You may see slightly different numerical results due to floating-point round-off errors from different computation orders. To turn them off, set the environment variable `TF_ENABLE_ONEDNN_OPTS=0`.\n",
      "2023-09-07 23:26:06.477413: I tensorflow/core/platform/cpu_feature_guard.cc:182] This TensorFlow binary is optimized to use available CPU instructions in performance-critical operations.\n",
      "To enable the following instructions: AVX2 AVX512F AVX512_VNNI FMA, in other operations, rebuild TensorFlow with the appropriate compiler flags.\n",
      "2023-09-07 23:26:07.060362: W tensorflow/compiler/tf2tensorrt/utils/py_utils.cc:38] TF-TRT Warning: Could not find TensorRT\n",
      "Using region Normandy server backend.\n",
      "\n"
     ]
    }
   ],
   "source": [
    "import importlib\n",
    "\n",
    "import RktnChallenge.RktnModel\n",
    "importlib.reload(RktnChallenge.RktnModel)\n",
    "from RktnChallenge.RktnModel import ModelTrainer\n",
    "\n",
    "import RktnChallenge.preprocessing.translater\n",
    "importlib.reload(RktnChallenge.preprocessing.translater)\n",
    "from RktnChallenge.preprocessing.translater import LanguageDetector\n",
    "from RktnChallenge.preprocessing.translater import Translator\n",
    "\n",
    "import RktnChallenge.preprocessing.CopyWhereNan\n",
    "importlib.reload(RktnChallenge.preprocessing.CopyWhereNan)\n",
    "from RktnChallenge.preprocessing.CopyWhereNan import CopyWhereNan\n",
    "\n",
    "import RktnChallenge.preprocessing.removeHTML\n",
    "importlib.reload(RktnChallenge.preprocessing.removeHTML)\n",
    "from RktnChallenge.preprocessing.removeHTML import removeHTML"
   ]
  },
  {
   "cell_type": "markdown",
   "metadata": {},
   "source": [
    "On charge la base et init le support GPU / CPU"
   ]
  },
  {
   "cell_type": "code",
   "execution_count": 2,
   "metadata": {},
   "outputs": [
    {
     "name": "stdout",
     "output_type": "stream",
     "text": [
      "1 Physical GPUs, 1 Logical GPUs\n"
     ]
    },
    {
     "name": "stderr",
     "output_type": "stream",
     "text": [
      "2023-09-07 23:26:13.276442: I tensorflow/compiler/xla/stream_executor/cuda/cuda_gpu_executor.cc:981] could not open file to read NUMA node: /sys/bus/pci/devices/0000:02:00.0/numa_node\n",
      "Your kernel may have been built without NUMA support.\n",
      "2023-09-07 23:26:13.408898: I tensorflow/compiler/xla/stream_executor/cuda/cuda_gpu_executor.cc:981] could not open file to read NUMA node: /sys/bus/pci/devices/0000:02:00.0/numa_node\n",
      "Your kernel may have been built without NUMA support.\n",
      "2023-09-07 23:26:13.409773: I tensorflow/compiler/xla/stream_executor/cuda/cuda_gpu_executor.cc:981] could not open file to read NUMA node: /sys/bus/pci/devices/0000:02:00.0/numa_node\n",
      "Your kernel may have been built without NUMA support.\n",
      "2023-09-07 23:26:13.411895: I tensorflow/compiler/xla/stream_executor/cuda/cuda_gpu_executor.cc:981] could not open file to read NUMA node: /sys/bus/pci/devices/0000:02:00.0/numa_node\n",
      "Your kernel may have been built without NUMA support.\n",
      "2023-09-07 23:26:13.412309: I tensorflow/compiler/xla/stream_executor/cuda/cuda_gpu_executor.cc:981] could not open file to read NUMA node: /sys/bus/pci/devices/0000:02:00.0/numa_node\n",
      "Your kernel may have been built without NUMA support.\n",
      "2023-09-07 23:26:13.412596: I tensorflow/compiler/xla/stream_executor/cuda/cuda_gpu_executor.cc:981] could not open file to read NUMA node: /sys/bus/pci/devices/0000:02:00.0/numa_node\n",
      "Your kernel may have been built without NUMA support.\n",
      "2023-09-07 23:26:14.127958: I tensorflow/compiler/xla/stream_executor/cuda/cuda_gpu_executor.cc:981] could not open file to read NUMA node: /sys/bus/pci/devices/0000:02:00.0/numa_node\n",
      "Your kernel may have been built without NUMA support.\n",
      "2023-09-07 23:26:14.128387: I tensorflow/compiler/xla/stream_executor/cuda/cuda_gpu_executor.cc:981] could not open file to read NUMA node: /sys/bus/pci/devices/0000:02:00.0/numa_node\n",
      "Your kernel may have been built without NUMA support.\n",
      "2023-09-07 23:26:14.128420: I tensorflow/core/common_runtime/gpu/gpu_device.cc:1726] Could not identify NUMA node of platform GPU id 0, defaulting to 0.  Your kernel may not have been built with NUMA support.\n",
      "2023-09-07 23:26:14.128756: I tensorflow/compiler/xla/stream_executor/cuda/cuda_gpu_executor.cc:981] could not open file to read NUMA node: /sys/bus/pci/devices/0000:02:00.0/numa_node\n",
      "Your kernel may have been built without NUMA support.\n",
      "2023-09-07 23:26:14.128804: I tensorflow/core/common_runtime/gpu/gpu_device.cc:1639] Created device /job:localhost/replica:0/task:0/device:GPU:0 with 4449 MB memory:  -> device: 0, name: NVIDIA TITAN X (Pascal), pci bus id: 0000:02:00.0, compute capability: 6.1\n"
     ]
    }
   ],
   "source": [
    "RktnModel = ModelTrainer(\"data.csv\")\n",
    "\n",
    "# On initialise le GPU disponible, la gestion mémoire\n",
    "RktnModel.initGPU()"
   ]
  },
  {
   "cell_type": "markdown",
   "metadata": {},
   "source": [
    "On détecte la langue de la source et range dans une nouvelle colonne"
   ]
  },
  {
   "cell_type": "code",
   "execution_count": 3,
   "metadata": {},
   "outputs": [
    {
     "name": "stderr",
     "output_type": "stream",
     "text": [
      "/home/pec/Rktn/RktnChallenge/preprocessing/removeHTML.py:17: MarkupResemblesLocatorWarning: The input looks more like a filename than markup. You may want to open this file and pass the filehandle into Beautiful Soup.\n",
      "  X[self.dest] = X[self.dest].apply(lambda x: \"\" if(pd.isna(x)) else unidecode(BeautifulSoup(x, \"html.parser\").text))\n",
      "/home/pec/Rktn/RktnChallenge/preprocessing/removeHTML.py:17: MarkupResemblesLocatorWarning: The input looks more like a URL than markup. You may want to use an HTTP client like requests to get the document behind the URL, and feed that document to Beautiful Soup.\n",
      "  X[self.dest] = X[self.dest].apply(lambda x: \"\" if(pd.isna(x)) else unidecode(BeautifulSoup(x, \"html.parser\").text))\n",
      "/home/pec/Rktn/RktnChallenge/preprocessing/removeHTML.py:17: MarkupResemblesLocatorWarning: The input looks more like a filename than markup. You may want to open this file and pass the filehandle into Beautiful Soup.\n",
      "  X[self.dest] = X[self.dest].apply(lambda x: \"\" if(pd.isna(x)) else unidecode(BeautifulSoup(x, \"html.parser\").text))\n"
     ]
    },
    {
     "name": "stdout",
     "output_type": "stream",
     "text": [
      "Loading lid Lang model\n"
     ]
    },
    {
     "name": "stderr",
     "output_type": "stream",
     "text": [
      "Warning : `load_model` does not return WordVectorModel or SupervisedModel any more, but a `FastText` object which is very similar.\n"
     ]
    },
    {
     "name": "stdout",
     "output_type": "stream",
     "text": [
      "fin de detection\n",
      "translating ... designation\n",
      "fin de translation\n",
      "fin de detection\n",
      "translating ... description\n",
      "erreur:  ...\n",
      "erreur:  ...\n",
      "erreur:  ...\n",
      "erreur:  https://placehold.it/100x70\n",
      "erreur:  ...\n",
      "erreur:  ...\n",
      "erreur:  ...\n",
      "erreur:  ...\n",
      "erreur:  ...\n",
      "erreur:  ...\n",
      "erreur:  ...\n",
      "erreur:  ...\n",
      "erreur:  ...\n",
      "erreur:  ...\n",
      "erreur:  ...\n",
      "erreur:  NOTE : code d'activation a utiliser exclusivement sur un compte Steam valide connexion Internet requise.  A PROPOS DU JEU  Get the complete Earth 21x0 saga a milestone in gaming history including all expansion packs. Become a strategic commander at the highest level with World War II: Panzer Claws and World War III: Black Gold. And for a bit of variety head out into space with Planets under Attack.  EARTH 2160 - jeu disponible en francais anglais allemand italien espagnol   The future of mankind begins when the world ends...  After the destruction of the Earth in 2150 the survivors of the human race populate Mars - but this new homeland of theirs conceals a long-forgotten and dangerous presence from a far-distant world. Your heroes and your armies will need strong leadership to take them on a spellbinding odyssey that has everything a gamer's heart could wish for breathtaking worlds in space battles against cunning enemies and even downright treason from your own government faction - are you up to it? Accept the challenge?let this gripping RTS trilogy thrust you into the far future? and YOU will decide the fate of the universe!  EARTH 2150 TRILOGY - jeu disponible en francais anglais allemand  Your heroes and your armies will need strong leadership to take them on a spellbinding odyssey that has everything a gamer's heart could wish for breathtaking worlds in space battles against cunning enemies and even downright treason from your own government faction - are you up to it? Accept the challenge?let this gripping EARTH 2150 RTS trilogy thrust you into the far future? and YOU will decide the fate of the universe!  The Trilogy includes EARTH 2150 Escape from the Blue Planet The Moon Project and Lost Souls!  EARTH 2140 - jeu disponible en anglais allemand italien The year is 2140. After numerous wars and several environmental disasters only two world powers remain; the United Civilized States ('UCS<<) covering the American continent Western Europe and North Africa and the Eurasian Dynasty ('ED<<) covering the coherent landmasses of Eastern Europe and Asia. The damage caused by the long wars led both world powers to evacuate the population to recently built underground cities.  Natural resources are becoming scarce and have to be extracted above ground. There have been a number of small conflicts between the UCS and the ED the last of which escalated and became a fierce and bitter war - the final world war. Only one side can win. This final war will decide who will get the last of the available natural resources and ultimately rule the world.  WWII: PANZER CLAWS - jeu disponible en francais anglais allemand italien  World War II: Panzer Claws pushes back the boundaries of real-time strategy gaming! Take control of the Allied German the Russian or the French Resistance in the harsh reality of the battlefields of World War II. At your disposal are a vast number of vehicles and tanks as well as ground troops and the ability to call in air forces when needed.  This version contains both parts: Panzer Claws I and Panzer Claws II.  WORLD WAR III: BLACK GOLD - jeu disponible en francais anglais allemand italien espagnol  Actual Armies. Actual Weapons. Actual Political Issues.  World War III - Black Gold takes the player to the near future. The political crisis has been going on for months leading to worldwide turmoil. A secret conference of the UN Central Geological Commission reveals that worldwide oil reserves have reached dangerously low levels: Oil reserves will run out within 8-10 years. This proves too short for even the most highly industrialized countries to switch their economies to alternative energy sources. Soon mass protests erupt all over the world effectively shutting down the global economy. The Great Powers have declared WW III...  PLANETS UNDER ATTACK - jeu disponible en francais anglais allemand italien espagnol  Planets under Attack offers a surprising depth of gameplay while its intuitive controls allow even casual gamers to pick it up and feel comfortable immediately. In addition to the addicting gameplay Planets under Attack is an obvious labor of love.  An exciting and memorable cast of characters exist perfectly in this artistically beautiful world. From the ships to the planets everything has an essence of its own with a memorable soundtrack and comical sound effects breathing life into the visuals. The goal of this challenging space adventure is to conquer a galaxy of planets while undertaking a multitude of special challenges. Take control of your mighty space armada and wreak havoc across the cosmos but choose your targets wisely!  CONFIGURATION REQUISE Windows  Minimum : OS: Windows XP / Vista / 7 / 8Processeur : Intel / AMD 2.0 GHzMemoire : 2 GB RAMDisque dur : 15 GB available space Notes: Keyboard MouseReseau : Broadband Internet connection   Recommandee : OS: Windows XP / Vista / 7 / 8Processeur : Multicore CPU Memoire : 4 GB RAMDisque dur : 15 GB available space Notes: Keyboard MouseReseau : Broadband Internet connection \n",
      "erreur:  ...\n",
      "erreur:  ...\n",
      "erreur:  https://placehold.it/100x70\n",
      "erreur:  ...\n",
      "fin de translation\n",
      "langues detectees dans les designations:  ['fr', 'de', 'pt', 'en', 'nl', 'ja', 'it', 'es', 'no']\n",
      "langues detectees dans les descriptions:  ['fr', 'en', 'de', 'sh', 'nl', 'it', 'pt', 'es', 'tl']\n"
     ]
    }
   ],
   "source": [
    "desc_removeHTML = removeHTML(\"description\")\n",
    "desi_removeHTML = removeHTML(\"designation\")\n",
    "\n",
    "desi_langueDetect = LanguageDetector(\"desi_langue\",\"designation\",confiance=0.8)\n",
    "desc_langueDetect = LanguageDetector(\"desc_langue\",\"description\",confiance=0.8)\n",
    "\n",
    "\n",
    "desi_Translator = Translator(dest = \"tr_designation\", src=\"designation\",               \n",
    "                             detected_lang=\"desi_langue\", source = \"google\",verbose = False)\n",
    "\n",
    "desc_Translator = Translator(dest = \"tr_description\", src=\"description\",               \n",
    "                             detected_lang=\"desc_langue\", source = \"google\", verbose = False)\n",
    "\n",
    "\n",
    "\n",
    "RktnModel.initPreprocess()\n",
    "# unidecode et removeHTML\n",
    "RktnModel.addPreprocessStep(\"desc removeHTML\",desc_removeHTML)\n",
    "RktnModel.addPreprocessStep(\"desi removeHTML\",desi_removeHTML)\n",
    "# decode la langue et traduit la designation\n",
    "RktnModel.addPreprocessStep(\"detect langue designation\",desi_langueDetect)\n",
    "RktnModel.addPreprocessStep(\"translate designation\",desi_Translator)\n",
    "# decode la langue et traduit la description\n",
    "RktnModel.addPreprocessStep(\"detect langue description\",desc_langueDetect)\n",
    "RktnModel.addPreprocessStep(\"translate description\",desc_Translator)\n",
    "RktnModel.preprocess()\n",
    "\n",
    "\n",
    "print(\"langues detectees dans les designations: \",desi_langueDetect.langues)\n",
    "print(\"langues detectees dans les descriptions: \",desc_langueDetect.langues)\n",
    "\n"
   ]
  },
  {
   "cell_type": "markdown",
   "metadata": {},
   "source": [
    "On vient de traduire dans tr_ ce qui n'est pas en francais, on complete avec le français:"
   ]
  },
  {
   "cell_type": "code",
   "execution_count": 12,
   "metadata": {},
   "outputs": [],
   "source": [
    "# on copie les lignes qui n'ont pas été traduites (celles en français)\n",
    "desc_copy = CopyWhereNan(\"tr_description\",\"description\")\n",
    "desi_copy = CopyWhereNan(\"tr_designation\",\"designation\")\n",
    "\n",
    "RktnModel.initPreprocess()\n",
    "RktnModel.addPreprocessStep(\"desc copy french\",desc_copy)\n",
    "RktnModel.addPreprocessStep(\"desi copy french\",desi_copy)\n",
    "RktnModel.data = RktnModel.preprocess()\n",
    "\n",
    "\n",
    "#on sauve\n",
    "RktnModel.saveCSV(\"data_tr.csv\")\n"
   ]
  }
 ],
 "metadata": {
  "kernelspec": {
   "display_name": "tfGPU",
   "language": "python",
   "name": "python3"
  },
  "language_info": {
   "codemirror_mode": {
    "name": "ipython",
    "version": 3
   },
   "file_extension": ".py",
   "mimetype": "text/x-python",
   "name": "python",
   "nbconvert_exporter": "python",
   "pygments_lexer": "ipython3",
   "version": "3.9.17"
  },
  "orig_nbformat": 4
 },
 "nbformat": 4,
 "nbformat_minor": 2
}
