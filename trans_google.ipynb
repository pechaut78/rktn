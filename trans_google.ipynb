{
 "cells": [
  {
   "cell_type": "markdown",
   "metadata": {},
   "source": [
    "Traduction du texte avec Translators et google."
   ]
  },
  {
   "cell_type": "code",
   "execution_count": 1,
   "metadata": {},
   "outputs": [
    {
     "name": "stderr",
     "output_type": "stream",
     "text": [
      "2023-10-02 10:29:21.729806: I tensorflow/core/util/port.cc:111] oneDNN custom operations are on. You may see slightly different numerical results due to floating-point round-off errors from different computation orders. To turn them off, set the environment variable `TF_ENABLE_ONEDNN_OPTS=0`.\n",
      "2023-10-02 10:29:21.755315: E external/local_xla/xla/stream_executor/cuda/cuda_dnn.cc:9511] Unable to register cuDNN factory: Attempting to register factory for plugin cuDNN when one has already been registered\n",
      "2023-10-02 10:29:21.755340: E external/local_xla/xla/stream_executor/cuda/cuda_fft.cc:609] Unable to register cuFFT factory: Attempting to register factory for plugin cuFFT when one has already been registered\n",
      "2023-10-02 10:29:21.755356: E external/local_xla/xla/stream_executor/cuda/cuda_blas.cc:1518] Unable to register cuBLAS factory: Attempting to register factory for plugin cuBLAS when one has already been registered\n",
      "2023-10-02 10:29:21.760516: I tensorflow/core/platform/cpu_feature_guard.cc:182] This TensorFlow binary is optimized to use available CPU instructions in performance-critical operations.\n",
      "To enable the following instructions: AVX2 AVX512F AVX512_VNNI FMA, in other operations, rebuild TensorFlow with the appropriate compiler flags.\n",
      "2023-10-02 10:29:22.274071: W tensorflow/compiler/tf2tensorrt/utils/py_utils.cc:38] TF-TRT Warning: Could not find TensorRT\n",
      "Using region Zurich server backend.\n",
      "\n"
     ]
    }
   ],
   "source": [
    "import importlib\n",
    "\n",
    "import RktnChallenge.RktnModel\n",
    "importlib.reload(RktnChallenge.RktnModel)\n",
    "from RktnChallenge.RktnModel import ModelTrainer\n",
    "\n",
    "import RktnChallenge.preprocessing.translater\n",
    "importlib.reload(RktnChallenge.preprocessing.translater)\n",
    "from RktnChallenge.preprocessing.translater import LanguageDetector\n",
    "from RktnChallenge.preprocessing.translater import Translator\n",
    "\n",
    "import RktnChallenge.preprocessing.CopyWhereNan\n",
    "importlib.reload(RktnChallenge.preprocessing.CopyWhereNan)\n",
    "from RktnChallenge.preprocessing.CopyWhereNan import CopyWhereNan\n",
    "\n",
    "import RktnChallenge.preprocessing.removeHTML\n",
    "importlib.reload(RktnChallenge.preprocessing.removeHTML)\n",
    "from RktnChallenge.preprocessing.removeHTML import removeHTML"
   ]
  },
  {
   "cell_type": "markdown",
   "metadata": {},
   "source": [
    "On charge la base et init le support GPU / CPU"
   ]
  },
  {
   "cell_type": "code",
   "execution_count": 2,
   "metadata": {},
   "outputs": [],
   "source": [
    "RktnModel = ModelTrainer(\"data.csv\")\n",
    "\n",
    "# On initialise le GPU disponible, la gestion mémoire\n",
    "#RktnModel.initGPU()"
   ]
  },
  {
   "cell_type": "markdown",
   "metadata": {},
   "source": [
    "On détecte la langue de la source et range dans une nouvelle colonne"
   ]
  },
  {
   "cell_type": "code",
   "execution_count": null,
   "metadata": {},
   "outputs": [],
   "source": [
    "desc_removeHTML = removeHTML(\"description\")\n",
    "desi_removeHTML = removeHTML(\"designation\")\n",
    "\n",
    "desi_langueDetect = LanguageDetector(\"desi_langue\",\"designation\",confidence=0.8)\n",
    "desc_langueDetect = LanguageDetector(\"desc_langue\",\"description\",confidence=0.8)\n",
    "\n",
    "\n",
    "desi_Translator = Translator(dest = \"tr_designation\", src=\"designation\",               \n",
    "                             detected_lang=\"desi_langue\", source = \"reverso\",verbose = True)\n",
    "\n",
    "desc_Translator = Translator(dest = \"tr_description\", src=\"description\",               \n",
    "                             detected_lang=\"desc_langue\", source = \"reverso\", verbose = True)\n",
    "\n",
    "\n",
    "\n",
    "RktnModel.initPreprocess()\n",
    "# unidecode et removeHTML\n",
    "RktnModel.addPreprocessStep(\"desc removeHTML\",desc_removeHTML)\n",
    "RktnModel.addPreprocessStep(\"desi removeHTML\",desi_removeHTML)\n",
    "# decode la langue et traduit la designation\n",
    "RktnModel.addPreprocessStep(\"detect langue designation\",desi_langueDetect)\n",
    "RktnModel.addPreprocessStep(\"translate designation\",desi_Translator)\n",
    "# decode la langue et traduit la description\n",
    "RktnModel.addPreprocessStep(\"detect langue description\",desc_langueDetect)\n",
    "RktnModel.addPreprocessStep(\"translate description\",desc_Translator)\n",
    "RktnModel.preprocess()\n",
    "\n",
    "\n",
    "print(\"langues detectees dans les designations: \",desi_langueDetect.langues)\n",
    "print(\"langues detectees dans les descriptions: \",desc_langueDetect.langues)\n",
    "\n"
   ]
  },
  {
   "cell_type": "markdown",
   "metadata": {},
   "source": [
    "On vient de traduire dans tr_ ce qui n'est pas en francais, on complete avec le français:"
   ]
  },
  {
   "cell_type": "code",
   "execution_count": null,
   "metadata": {},
   "outputs": [],
   "source": [
    "# on copie les lignes qui n'ont pas été traduites (celles en français)\n",
    "desc_copy = CopyWhereNan(\"tr_description\",\"description\")\n",
    "desi_copy = CopyWhereNan(\"tr_designation\",\"designation\")\n",
    "\n",
    "RktnModel.initPreprocess()\n",
    "RktnModel.addPreprocessStep(\"desc copy french\",desc_copy)\n",
    "RktnModel.addPreprocessStep(\"desi copy french\",desi_copy)\n",
    "RktnModel.data = RktnModel.preprocess()\n",
    "\n",
    "\n",
    "#on sauve\n",
    "RktnModel.saveCSV(\"data_tr_08_.csv\")\n"
   ]
  }
 ],
 "metadata": {
  "kernelspec": {
   "display_name": "tfGPU",
   "language": "python",
   "name": "python3"
  },
  "language_info": {
   "codemirror_mode": {
    "name": "ipython",
    "version": 3
   },
   "file_extension": ".py",
   "mimetype": "text/x-python",
   "name": "python",
   "nbconvert_exporter": "python",
   "pygments_lexer": "ipython3",
   "version": "3.9.17"
  },
  "orig_nbformat": 4
 },
 "nbformat": 4,
 "nbformat_minor": 2
}
