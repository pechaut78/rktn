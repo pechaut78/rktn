{
 "cells": [
  {
   "cell_type": "code",
   "execution_count": 7,
   "metadata": {},
   "outputs": [],
   "source": [
    "import importlib\n",
    "\n",
    "import RktnChallenge.RktnModel\n",
    "importlib.reload(RktnChallenge.RktnModel)\n",
    "from RktnChallenge.RktnModel import ModelTrainer\n",
    "\n",
    "import RktnChallenge.preprocessing.translater\n",
    "importlib.reload(RktnChallenge.preprocessing.translater)\n",
    "from RktnChallenge.preprocessing.translater import LanguageDetector\n",
    "from RktnChallenge.preprocessing.translater import Translator\n",
    "\n",
    "import RktnChallenge.preprocessing.CopyWhereNan\n",
    "importlib.reload(RktnChallenge.preprocessing.CopyWhereNan)\n",
    "from RktnChallenge.preprocessing.CopyWhereNan import CopyWhereNan\n",
    "\n",
    "import RktnChallenge.preprocessing.removeHTML\n",
    "importlib.reload(RktnChallenge.preprocessing.removeHTML)\n",
    "from RktnChallenge.preprocessing.removeHTML import removeHTML"
   ]
  },
  {
   "cell_type": "markdown",
   "metadata": {},
   "source": [
    "On charge la base et init le support GPU / CPU"
   ]
  },
  {
   "cell_type": "code",
   "execution_count": 8,
   "metadata": {},
   "outputs": [
    {
     "name": "stdout",
     "output_type": "stream",
     "text": [
      "1 Physical GPUs, 1 Logical GPUs\n"
     ]
    }
   ],
   "source": [
    "RktnModel = ModelTrainer(\"data.csv\")\n",
    "\n",
    "# On initialise le GPU disponible, la gestion mémoire\n",
    "RktnModel.initGPU()"
   ]
  },
  {
   "cell_type": "markdown",
   "metadata": {},
   "source": [
    "On détecte la langue de la source et range dans une nouvelle colonne"
   ]
  },
  {
   "cell_type": "code",
   "execution_count": 9,
   "metadata": {},
   "outputs": [
    {
     "name": "stderr",
     "output_type": "stream",
     "text": [
      "/home/pec/Rktn/RktnChallenge/preprocessing/removeHTML.py:17: MarkupResemblesLocatorWarning: The input looks more like a filename than markup. You may want to open this file and pass the filehandle into Beautiful Soup.\n",
      "  X[self.dest] = X[self.dest].apply(lambda x: \"\" if(pd.isna(x)) else unidecode(BeautifulSoup(x, \"lxml\").text))\n",
      "/home/pec/Rktn/RktnChallenge/preprocessing/removeHTML.py:17: MarkupResemblesLocatorWarning: The input looks more like a URL than markup. You may want to use an HTTP client like requests to get the document behind the URL, and feed that document to Beautiful Soup.\n",
      "  X[self.dest] = X[self.dest].apply(lambda x: \"\" if(pd.isna(x)) else unidecode(BeautifulSoup(x, \"lxml\").text))\n",
      "/home/pec/Rktn/RktnChallenge/preprocessing/removeHTML.py:17: MarkupResemblesLocatorWarning: The input looks more like a filename than markup. You may want to open this file and pass the filehandle into Beautiful Soup.\n",
      "  X[self.dest] = X[self.dest].apply(lambda x: \"\" if(pd.isna(x)) else unidecode(BeautifulSoup(x, \"lxml\").text))\n"
     ]
    },
    {
     "name": "stdout",
     "output_type": "stream",
     "text": [
      "Loading lid Lang model\n"
     ]
    },
    {
     "name": "stderr",
     "output_type": "stream",
     "text": [
      "Warning : `load_model` does not return WordVectorModel or SupervisedModel any more, but a `FastText` object which is very similar.\n"
     ]
    },
    {
     "name": "stdout",
     "output_type": "stream",
     "text": [
      "fin de detection\n",
      "translating ... designation\n",
      "erreur:  Hallwag Carte Routiere Deutschland \n",
      "erreur:  Totika Set Five Card Decks Included\n",
      "erreur:  S.I.C. Kamen Rider Zx (Completed) Bandai [Japan]  7\"\"\n",
      "erreur:  Jahrbuch Der Luftwaffe / Folge 12\n",
      "erreur:  Guitar Hero 2 Bundle With Guitar\n",
      "erreur:  Coprirete In Feltro Cod.020-7100\n",
      "erreur:  Dr. Whostealth Cyberman 6th. Doctor\n",
      "erreur:  VijverTechniek (VT) Filtre de bassin Vex-200\n",
      "erreur:  Leitz 50 X Pendelhefter Orgacolor A4 Kaufmannische Heftung\n",
      "fin de translation\n",
      "fin de detection\n",
      "translating ... description\n",
      "erreur:  p7 inch plush features Hello Kitty dressed as an Ugly Doll.p\n",
      "erreur:  pEquipment and furniture for playing in the kitchen of Amandas house. Made of farmed wood. Includes stove with oven sink with cupboard table with two stools coffee machine and toaster. Furnish the entire house and collect all the members of this playful family. Wood from repopulated forests. For each tree felled three more are planted. Amanda and her troupe are a fun group of friends who will grow up with you and go everywhere with you. Choose your favorite friend and collect the whole troupe Playing with Amanda Troupe helps all children to live in a community and understand our world better.\n",
      "erreur:  Metal Main Propeller Clip Spare Parts ForWLtoys XK K130 RC Helicopter Features:Replacement Main Propeller Clip designed for the Wltoys XK K130 RCHelicopter.Light weight and easy to use.Easy to replace.Made of high quality material it features highquality and fine workmanship.Guaranteed to meet the specifications of youroriginal device.Manufactured with the highest quality materials. Specifications:Item name: Main Propeller ClipQuantity: 2Suit for: WLtoys XK K130 RC Helicopter Weight: About 8g Package Includes:2 x Main Propeller Clip\n",
      "erreur:  pEach Barbie Fashionistas doll has her own look and style -- from camo ruffle to shimmery rainbow stripes all of the fashions are inspired by the latest trends Collect them all to explore countless looks. The latest line of Barbie Fashionistas dolls includes four body types 10 skin tones 12 eye colors 12 hair colors 12 hairstyles and so many on-trend fashions and accessories With added diversity and more variety in styles fashions shoes and accessories kids everywhere will have infinitely more ways to spark their imaginations and play out their stories. Includes Barbie Fashionistas doll wearing fashions and accessories. Each sold separately subject to availability. Dolls cannot stand alone. Flat shoes fit dolls with articulated ankles or flat feet. Colors and decorations may vary.p\n",
      "erreur:  Features:Being with your lovely pets and don't worry your car seats bed or furniture will get damage.The pet bed comes with exquisite pattern on it as a good decor for your home no more boring colors.Soft and flat pet bed for dogs and cats made with high-quality fabric and padded with cotton.This pet bed is designed for your vehicles bed and furniture you can take this lightweight and foldable pet bed everywhere your pet goes.The bottom fabric is waterproof that provides your furniture an extra protection.Washable and durable for long-term use.Specifications:Material: CottonColor: Black + WhiteSize: 140(L) x 70(W) x 12(H)cm/ 55.12 x 27.56 x 4.72inPackage includes:1 x Pet Bed\n",
      "erreur:  ...\n",
      "erreur:  Het aangrijpende relaas van een buitenstaander gewelddadig en hartstochtelijk spannend en scherp analyserend.\n",
      "erreur:  Lifelike Baby Doll 29cm New Doll Kids Girl Playmate Birthday GiftFeature:Material: High quality Silicone vinyl. Head and Arms and Legs are siliconevinyl materials. The shoulders and body with internal filling PP cottonmaterial. Body filler is high-quality soft material the limbs are filledwith soft material of high quality clean and environmentally friendly.Head: the head simulation of doll is a real baby size very cuteHair: mohair rooted and naturally similar baby hair  can be wash and comblike a real babyEyebrows: completely hand-drawn up so eyebrows have to be treated carefullydo not force to wipe themEyes: high-grade acrylic eyesNose: nostrils are open as if the baby doll is breathing.Mouth: the lips seems to be a real baby's lips tender soft warm and humid you can not help but want to kiss the baby doll.Nails: completely hand-drawn nails redness of the nail bed and translucentnails and even some nails life milky a half of moon shapeClothes: We will send the baby doll with clothes to our customers theclothes look very pretty and also you can wear it beautiful clothes byyourself.Skin: The skin is the most unique place of this doll designers will spend alot of time to baby's skin so that the skin will look more realisticUlti-layer manufacturing processes. Color after special treatment will notfade. Some babies have a little pink blush face.Size:29x12.5x13cm/11.4x4.9x5.11 inPackage Include:1x Piece Baby Clothes1x doll\n",
      "erreur:  ...\n",
      "erreur:  Mini Stainless Steel Pull String Garlic Cutter Vegetable Nuts Onions Features:A great tool that can help you easily deal with the food seasonings.Premium quality materials made durable and sturdy to use.Powerful handheld chopper for vegetables papers and other various food easily slice.Just simply Simply put food or ingredients in the container twist and lock the lid and pull the cord to cut the food.A great tool that can brings great convenience to your life making deal with food easily. Notice:Please do not pull the string all out of the box. Specifications:Materials: ABS+304 stainless steelSize: 9*9*7cm Package including?1 x Garlic cutter\n",
      "erreur:  Bubble Machine Automatic Bubble Maker BlowerMusic Electric Outdoor Toys BabyFeatures:AMAZING OUTPUTBUBBLES --- Bubble Machine can produce colorful bubble madness. Blow outcountless bubbles and keep your kids entertained. Creat a dreamlike bubbleworld for kids.adding more bath creamthe bubble is more plenty.DURABLE MATERIAL ---Bubble machine is made of eco-friendly ABS material non-toxicwearresistance sturdy and not easy to break durable for long time use.Kidswill play fun with watching loads of exciting bubbles pour out of its mouthin a continuous stream!EASY OPERATE ---Canbe firmly fixed in the bathtub or on the bathroom wall with 3 suctions cupsin the back of soap bubble machine.Simply pour the solution into thereservoir pushing the button to provide a steady stream of bubbles.Power by3 x AA batteries(Batteries not include).BEST BABY GIFT ---Bubble is a small magic weapon that makes the room laugh for all age ofbaby toddler and kids.It is also an wonderful baby showerbirthdaychristmas or party gift. It will add joy and good atmosphere to your family.[ Easy To Maintain ]- This bubble machine can be easily and effectively maintained just withregular cleaning.requires minimal care to maintain this bubble machineeasily and effectively maintained just with regular cleaning.Specifications:Material: ABSProduct Dimension:12x6.5x18.5cmPower supply: 3x AAbatteries (not included)Fit for Kids age over18 monthsNot waterproofplease Don?t put it into the water.Package list:1 x Bubble Maker\n",
      "erreur:  HG version of the RX-78-2. Molded in Bandai's patented multi-gate technology which allows multiple colors on one tree. Includes shield bazooka and beam rifle.Package size: 5.4cm x 29.6cm x 19.4cm\n",
      "erreur:  pHow well do you remember tidbits from Lizzies favorite TV show?p\n",
      "erreur:  Metal Cutting Dies Stencils Scrapbooking Embossing DIY Crafts Description: DIY hand embossing Can help children's ability to develop intelligence Made of steel materialgood hardness and soft to touch. Best for making a beautiful greeting cards. It can make different shape of paper crafts. Which can be used to cut emboss or stencil. These die cuts will allow you to make homemade cards frames and cutouts. Die cut or emboss shapes with your favorite manual machine you can even use these dies as stencils. Amusing and meaningfulhurry up to try it. Size:14*11cm Material: Carbon steel Color: Sliver Package included: 1 Set Cutting Dies\n",
      "erreur:  This high quality replica is handcrafted from mahogany and comes with a wooden base.br Length is 14-12 and wingspan is 9-14ulliExceptional detail.liliMade from quality materials.liliBrand new in factory packaging.liliPrecision design.liliCollectible quality.ul\n",
      "erreur:  ? Fur Produkte mit Innengewinde z.B. fur den Messing-2-Wege-Verteiler 19 mm (3/4?) Art.-Nr. 7155265 mm (G 3/4)-Gewindeauf 19 mm (1/2?)-Schlauche\n",
      "erreur:  The iconic film \"A Trip To The Moon\" reimagined for playing cards. Printed by USPCC for Derek McKee. Design by Logan Max. Made in USA. In 1902 a French director named George Melies came out with a revolutionary film titled \"A Trip to the Moon\". The film was about a futuristic voyage to the moon where there they have the first encounter with aliens on the big screen. Watch the original movie below.\n",
      "erreur:  Aluminum FR Gear Box Bottom Protector Mount ?SMILE FACE) For TraxxasTRX4 RC Car  Description? This part is made of a light weight aluminum to protect the front and rear gear box from sand and rocks as well as the impact when driving.  Designed closely attached to the bottom of the gearbox with easy installation.  trendy appearance for TRX 4 enthusiats   For chassis with thickness of 2mm and only use with original plastic gear box.We use a quality light weight high tensile strength aluminum 6061 T6 and is then anodized with scratch resistant colorsWeight:17g   Package include: 1 x FR Gear Box Bottom Protector Mount\n",
      "erreur:  Star Wars Episode I 16 Watto Plush\n",
      "erreur:  Easter Bunny Ears Bag Rabbit Gift Basket Shopping Tote Seasonal Party DecorationDescription: Material: cotton and linen filmWeight: 125gSize: about 25.5x30.5x10cmColor: as shownSpecial Designget a touch of holiday spirits with our unique bunny ears design. Our cute small tote bag is suitable for the Easter egg hunt and for you kids( above 5 years old) to carry chocolate Eggs Candies Sweets and other small gifts during Easter PartiesBag is made from quality cotton flax material and polyester lining reusable durable and safe materialA great gift idea to add a personal touch to their Easter Egg hunt by DIY your design on the bagAlso be great as an alternative to party bagsNote:1. Because the different measurement methods or fabric elasticity and other issues there may be 1-2cm difference.2. Please understand because of the light irradiation or computer display difference real color might be slightly different. Package includes:1 x Easter Bunny Ears Bag\n",
      "erreur:  ...\n",
      "erreur:  7.4V 1200mAh Battery For SJ R/CZ5 Wifi FPV GPS RC QuadcopterFeature:Designed for SJ R/C Z5 Drone Foldable RC Quadcopter.The7.4V 1200mAh battery has enough capacity for you to use.The high quality and fineworkmanship of it ensure the excellent performance.Intelligent protectionshell can protect the battery and makes it convenient to install.Over chargeprotection Short circuit protectionRechargeable up to hundreds of times.Specifications:Battery: 7.4V 1200mAhbatteryBattery dimension: About 7x 3.8 x 3.5cm (with shell)Rated voltage: 5vCharging time: About90-120 minutesWorking time: About 14minutesSuit for: Z5 Foldable RCQuadcopterPackage weight: 100gGeneral box packageAttention:Theremay be some deviation due to manual measurement.This 7.4V 1200mAh Battery isdesigned for SJ R/C Z5 Drone Foldable RC Quadcopter. It has excellent qualityand performance can totally meet the need of you and bring you a lot of funtake it with you right now.Package includes:1 xBattery\n",
      "erreur:  Cosmetic Non-woven Portable Professional Makeup Cosmetics Cases Toolbox FeatureType: Cosmetic boxColor: Multicolor options Material: Non-wovenSize: 19 * 10 * 10cmStyle: easy to carrySimple and stylish appearance: This digital fashion jewelry box allows your home travel performance performance fashion easy to use protect your jewelry from dust and scratches. Outstanding quality: It is spacious enough to keep your jewellery cosmetics in perfect order. Package Contents: 1xStorage\n",
      "erreur:  https://placehold.it/100x70\n",
      "erreur:  Key Features30% lighter than the stock outdrivesOverviewThese lightened outdrives are over 30% lighter than the stock units allowing for quicker acceleration.\n",
      "erreur:  ...\n",
      "erreur:  These Neon Spin Tops with Glitter make wonderful carnival prizes classroom incentives party favors or Halloween treats. Each package includes 48 glittery neon spin tops in assorted colors and measuring 1 58in across.\n",
      "erreur:  ...\n",
      "erreur:  1/10 RC Elastic Luggage Net Vehicles Crawler Accessory For RC4WD Axial SCX10 Features: 100% brand new and durable Made of high qualitymaterial It is elastic can bestretched It has the hook can fix the things on the roofrack of RC car Unstretched Length:19 cm Unstretched Width:11cm Quantity: 1PcsLuggage Net(the other accessories are not included) Suit for: 1/10 RC Crawler Note: This is a toy for 1/10 Remote Control Car not for the real car. Package List: 1 * RC Car Luggage Net\n",
      "erreur:  pThe fun will keep on rolling in this numbers dice game of chance and challenge Keep Rolling is a perfect on-the-go learning resource for ages 6 and up. How many rolls will it take to get the highest total? Dont stop rolling the dice to see if you can beat your opponents Keep Rolling is a perfect resource for small-group activities and basic skill reinforcement on the go at home or in the classroom. Skills covered include multiplication facts addition and basic math facts. Includes 6 dice 1 notepad and 1 pencil. 2-4 players.p\n",
      "erreur:  2PC Foam Throwing Glider Airplane InertiaAircraft Toy Hand Launch Airplane ModelFeatures:100% Brandnew and high quality. HIGH QUALITY :made of EPPhigh-polymer materiallight weight good flexibility and impactresistancecan bendnot easy to break.the material is no harm to the body.FLYING LONGER:aerodynamicsprinciple designverisimilitude highly-degree flying simulatorimprove theability of gliding in the air.EASY CARRY:aircraft consistsof the fuselage and two wings easy to assemble and disassemble easy tocarry to the wild to play.BEST GIFT: the best outdoorgift to 4-14 years old childrenaviation and airplane theme partiesvariousfestivals giftsuch like Christmas Thanksgiving Halloween and EasterMain features: Easy toinstall: suitable for children and teenagers.Streamline design: beautifulcolor and circulation design highly-degree flying simulator looks moreverisimilitude.Double-wing structure:lifting body design to improve the ability of gliding in the air.Material: EPP foam.Size:48x48cm2PCFoam Throwing Glider is morefun to play with friends or family and can also compete with each otherColor: green orangePackage Include:2pcEpp Foam Airplane Toy\n",
      "erreur:  Solar LED Landscape Lamps Outdoor Garden Path Lawn Lamp Straight Diamond Light 4PCProduct Selling Point: These energy-efficient low-maintenance solar lights add a charming decorative glow to your driveway patio or flowerbeds.They are a must-have for everyone's garden. Simple assembly is required.The solar panels convert sunlight into electricity during day time and recharge the battery. At night the light turns on automatically.HIGH QUALITY SOLAR GARDEN LIGHTS: Beautifully designed solar lights molded with high quality material with stainless steel abs plastic stake that are more durable and waterproof.HIGHLY EFFICIENT SOLAR PANEL: This solar diamond garden light supported with powerful solar panel and built-in rechargeable Ni-MH battery lights up for 6-8 hours after getting fully charged.Specifications: Power: 0.06WSolar panels: 5.5V 2.5WBattery: 3A 600mAhIP rating: 67 (can not be soaked in water)Material: Acrylic + stainless steel + ABSWorking hours: 6-8 hoursCharging time: 8 hours (the greater the sun the faster charge)Product Size: 340 x 75 mmLight color: whiteNotes: Please allow 1-3cm differs due to manual measurement.Due to the different display and different light the picture may not show the actual color of the item. Thanks for your understanding. Package Included:4 x Solar Lawn Light;\n",
      "erreur:  This purse in trendy top model design by Depesche is just the right thing for all girls. It has a zip pocket for change and a press stud pocket on the back for cards notes and a clear pocket. The wallet is approx. 10 x 12 x 3 cm and on the front there is a summer motif.- wallet for girls- Design: TOPModel Tropical- Zipped closure with popper fastening note pockets cards and coin pocket- Size: Approx. 10 x 12 x 3 cm- Material: polyester\n",
      "erreur:  Its a bird its a plane its a Minion air-gliding behind a car while another causes some Motor Mischief by Mega Bloks Despicable Me This blue convertible is up to almost anything but the Minions push it to the limit when they take it for a wild test drive. Build the car and your Minions then open the car roof to load one of them behind the wheel ready to swerve and speed all over the place. Then hook the other Minion into his homemade glider and help him hold onto the cable so he can soar through the air as you zoom away Ideal for ages 5 and up.\n",
      "erreur:  ...\n",
      "erreur:  HandCitrus Juicer Orange Lemon Juice Press Fruit Manual Extractor Feature:Material: Plastic Color:BlueSize: 9.3 x 13.5cm(3.66 x 5.31inch)100% brand new and high qualitySimply style compact design with elegant appearanceBe material of food grade plastic non-toxic safe for useEasily the juice of lemon lime citrus orange etc.Keep the original favour of the fruitsmake you drink healthy and nutritional.Can be used as a shaker cup to mix different juice when the lid is closed.Ideal for outdoor activity picnic and travel.Manual operation easy to use.Notes:The real color of the item may be slightly different from the pictures shown on website caused by many factors such as brightness of your monitor and light brightness.Please allow slight deviation for the measurement data.Package Includes:1Pcs Juicers\n",
      "erreur:  ...\n",
      "erreur:  ...\n",
      "erreur:  ...\n",
      "erreur:  ...\n",
      "erreur:  ...\n",
      "erreur:  ...\n",
      "erreur:  ...\n",
      "erreur:  ...\n",
      "erreur:  NOTE : code d'activation a utiliser exclusivement sur un compte Steam valide connexion Internet requise.  A PROPOS DU JEU  Get the complete Earth 21x0 saga a milestone in gaming history including all expansion packs. Become a strategic commander at the highest level with World War II: Panzer Claws and World War III: Black Gold. And for a bit of variety head out into space with Planets under Attack.  EARTH 2160 - jeu disponible en francais anglais allemand italien espagnol   The future of mankind begins when the world ends...  After the destruction of the Earth in 2150 the survivors of the human race populate Mars - but this new homeland of theirs conceals a long-forgotten and dangerous presence from a far-distant world. Your heroes and your armies will need strong leadership to take them on a spellbinding odyssey that has everything a gamer's heart could wish for breathtaking worlds in space battles against cunning enemies and even downright treason from your own government faction - are you up to it? Accept the challenge?let this gripping RTS trilogy thrust you into the far future? and YOU will decide the fate of the universe!  EARTH 2150 TRILOGY - jeu disponible en francais anglais allemand  Your heroes and your armies will need strong leadership to take them on a spellbinding odyssey that has everything a gamer's heart could wish for breathtaking worlds in space battles against cunning enemies and even downright treason from your own government faction - are you up to it? Accept the challenge?let this gripping EARTH 2150 RTS trilogy thrust you into the far future? and YOU will decide the fate of the universe!  The Trilogy includes EARTH 2150 Escape from the Blue Planet The Moon Project and Lost Souls!  EARTH 2140 - jeu disponible en anglais allemand italien The year is 2140. After numerous wars and several environmental disasters only two world powers remain; the United Civilized States ('UCS<<) covering the American continent Western Europe and North Africa and the Eurasian Dynasty ('ED<<) covering the coherent landmasses of Eastern Europe and Asia. The damage caused by the long wars led both world powers to evacuate the population to recently built underground cities.  Natural resources are becoming scarce and have to be extracted above ground. There have been a number of small conflicts between the UCS and the ED the last of which escalated and became a fierce and bitter war - the final world war. Only one side can win. This final war will decide who will get the last of the available natural resources and ultimately rule the world.  WWII: PANZER CLAWS - jeu disponible en francais anglais allemand italien  World War II: Panzer Claws pushes back the boundaries of real-time strategy gaming! Take control of the Allied German the Russian or the French Resistance in the harsh reality of the battlefields of World War II. At your disposal are a vast number of vehicles and tanks as well as ground troops and the ability to call in air forces when needed.  This version contains both parts: Panzer Claws I and Panzer Claws II.  WORLD WAR III: BLACK GOLD - jeu disponible en francais anglais allemand italien espagnol  Actual Armies. Actual Weapons. Actual Political Issues.  World War III - Black Gold takes the player to the near future. The political crisis has been going on for months leading to worldwide turmoil. A secret conference of the UN Central Geological Commission reveals that worldwide oil reserves have reached dangerously low levels: Oil reserves will run out within 8-10 years. This proves too short for even the most highly industrialized countries to switch their economies to alternative energy sources. Soon mass protests erupt all over the world effectively shutting down the global economy. The Great Powers have declared WW III...  PLANETS UNDER ATTACK - jeu disponible en francais anglais allemand italien espagnol  Planets under Attack offers a surprising depth of gameplay while its intuitive controls allow even casual gamers to pick it up and feel comfortable immediately. In addition to the addicting gameplay Planets under Attack is an obvious labor of love.  An exciting and memorable cast of characters exist perfectly in this artistically beautiful world. From the ships to the planets everything has an essence of its own with a memorable soundtrack and comical sound effects breathing life into the visuals. The goal of this challenging space adventure is to conquer a galaxy of planets while undertaking a multitude of special challenges. Take control of your mighty space armada and wreak havoc across the cosmos but choose your targets wisely!  CONFIGURATION REQUISE Windows  Minimum : OS: Windows XP / Vista / 7 / 8Processeur : Intel / AMD 2.0 GHzMemoire : 2 GB RAMDisque dur : 15 GB available space Notes: Keyboard MouseReseau : Broadband Internet connection   Recommandee : OS: Windows XP / Vista / 7 / 8Processeur : Multicore CPU Memoire : 4 GB RAMDisque dur : 15 GB available space Notes: Keyboard MouseReseau : Broadband Internet connection \n",
      "erreur:  ...\n",
      "erreur:  ...\n",
      "erreur:  https://placehold.it/100x70\n",
      "erreur:  ...\n",
      "fin de translation\n",
      "langues detectees dans les designations:  ['fr', 'de', 'pt', 'en', 'nl', 'ja', 'it', 'es', 'no']\n",
      "langues detectees dans les descriptions:  ['fr', 'en', 'de', 'sh', 'nl', 'it', 'pt', 'es', 'tl']\n"
     ]
    }
   ],
   "source": [
    "desc_removeHTML = removeHTML(\"description\")\n",
    "desi_removeHTML = removeHTML(\"designation\")\n",
    "\n",
    "desi_langueDetect = LanguageDetector(\"desi_langue\",\"designation\",confiance=0.8)\n",
    "desc_langueDetect = LanguageDetector(\"desc_langue\",\"description\",confiance=0.8)\n",
    "\n",
    "\n",
    "desi_Translator = Translator(dest = \"tr_designation\", src=\"designation\",               \n",
    "                             detected_lang=\"desi_langue\", source = \"google\",verbose = False)\n",
    "\n",
    "desc_Translator = Translator(dest = \"tr_description\", src=\"description\",               \n",
    "                             detected_lang=\"desc_langue\", source = \"google\", verbose = False)\n",
    "\n",
    "\n",
    "\n",
    "RktnModel.initPreprocess()\n",
    "# unidecode et removeHTML\n",
    "RktnModel.addPreprocessStep(\"desc removeHTML\",desc_removeHTML)\n",
    "RktnModel.addPreprocessStep(\"desi removeHTML\",desi_removeHTML)\n",
    "# decode la langue et traduit la designation\n",
    "RktnModel.addPreprocessStep(\"detect langue designation\",desi_langueDetect)\n",
    "RktnModel.addPreprocessStep(\"translate designation\",desi_Translator)\n",
    "# decode la langue et traduit la description\n",
    "RktnModel.addPreprocessStep(\"detect langue description\",desc_langueDetect)\n",
    "RktnModel.addPreprocessStep(\"translate description\",desc_Translator)\n",
    "RktnModel.preprocess()\n",
    "\n",
    "\n",
    "print(\"langues detectees dans les designations: \",desi_langueDetect.langues)\n",
    "print(\"langues detectees dans les descriptions: \",desc_langueDetect.langues)"
   ]
  },
  {
   "cell_type": "markdown",
   "metadata": {},
   "source": [
    "On vient de traduire dans tr_ ce qui n'est pas en francais, on complete avec le français:"
   ]
  },
  {
   "cell_type": "code",
   "execution_count": 12,
   "metadata": {},
   "outputs": [],
   "source": [
    "# on copie les lignes qui n'ont pas été traduites (celles en français)\n",
    "desc_copy = CopyWhereNan(\"tr_description\",\"description\")\n",
    "desi_copy = CopyWhereNan(\"tr_designation\",\"designation\")\n",
    "\n",
    "RktnModel.initPreprocess()\n",
    "RktnModel.addPreprocessStep(\"desc copy french\",desc_copy)\n",
    "RktnModel.addPreprocessStep(\"desi copy french\",desi_copy)\n",
    "RktnModel.data = RktnModel.preprocess()\n",
    "\n",
    "\n",
    "#on sauve\n",
    "RktnModel.saveCSV(\"data_tr.csv\")\n"
   ]
  }
 ],
 "metadata": {
  "kernelspec": {
   "display_name": "tfGPU",
   "language": "python",
   "name": "python3"
  },
  "language_info": {
   "codemirror_mode": {
    "name": "ipython",
    "version": 3
   },
   "file_extension": ".py",
   "mimetype": "text/x-python",
   "name": "python",
   "nbconvert_exporter": "python",
   "pygments_lexer": "ipython3",
   "version": "3.9.17"
  },
  "orig_nbformat": 4
 },
 "nbformat": 4,
 "nbformat_minor": 2
}
