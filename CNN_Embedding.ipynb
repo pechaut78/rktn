{
 "cells": [
  {
   "cell_type": "markdown",
   "metadata": {},
   "source": [
    "Modele générant les embeddings pour VGG16; en cours de finalisation"
   ]
  },
  {
   "cell_type": "code",
   "execution_count": null,
   "metadata": {},
   "outputs": [],
   "source": [
    "import numpy as np\n",
    "import pandas as pd\n",
    "\n",
    "from tensorflow.keras import Sequential\n",
    "from tensorflow.keras.layers import Dense, Dropout, Flatten, Conv2D, GlobalAveragePooling2D, MaxPooling2D\n",
    "from tensorflow.keras.optimizers import Adam,Adagrad\n",
    "\n",
    "from keras.applications.vgg16 import VGG16\n",
    "from keras.applications import VGG19\n",
    "from keras.applications import EfficientNetB0\n",
    "\n",
    "\n",
    "\n",
    "\n",
    "from tensorflow.keras.applications.vgg16 import preprocess_input\n",
    "import tensorflow as tf\n",
    "\n",
    "from RktnChallenge.RktnModel import ModelTrainer\n",
    "\n",
    "\n",
    "# PARAMS  de base\n",
    "PATH = \"images/crop224/\"\n",
    "img_size = 224\n",
    "depth = 3\n",
    "num_categories =27"
   ]
  },
  {
   "cell_type": "code",
   "execution_count": null,
   "metadata": {},
   "outputs": [],
   "source": [
    "preprocessing_function = tf.keras.applications.vgg16.preprocess_input\n",
    "trainer = ModelTrainer(\"data.csv\",PATH)\n",
    "trainer.loadData(PATH=PATH,imgsize=224,batchsize=32,aumgentImages=False,\n",
    "                preprocessing_function=preprocessing_function,customized_data=True)"
   ]
  },
  {
   "cell_type": "code",
   "execution_count": null,
   "metadata": {},
   "outputs": [],
   "source": [
    "input = tf.keras.Input(shape=(img_size,img_size,3))\n",
    "net = VGG16(weights='imagenet', include_top=False,input_tensor = input) \n",
    "\n",
    "\n",
    "\n",
    "for layer in net.layers[:-2]:\n",
    "    layer.trainable = False\n",
    "    \n",
    "gap = tf.keras.layers.GlobalAveragePooling2D()(net.output)\n",
    "norm2 = tf.keras.layers.BatchNormalization()(gap)\n",
    "\n",
    "dense1 = tf.keras.layers.Dense(512, activation='relu')(norm2)\n",
    "dropout1 = tf.keras.layers.Dropout(0.3)(dense1)\n",
    "\n",
    "dense2 = tf.keras.layers.Dense(124, activation='relu')(dropout1)\n",
    "dropout2 = tf.keras.layers.Dropout(0.3)(dense2)\n",
    "\n",
    "output = tf.keras.layers.Dense(num_categories, activation='softmax')(dropout2)\n",
    "\n",
    "\n",
    "\n",
    "\n",
    "base_model = tf.keras.Model(net.input, outputs = output)\n",
    "base_model.compile(loss=['sparse_categorical_crossentropy'], optimizer=Adam(learning_rate=0.001), metrics=['accuracy'])\n"
   ]
  },
  {
   "cell_type": "code",
   "execution_count": null,
   "metadata": {},
   "outputs": [],
   "source": [
    "trainer.train(model=base_model, epochs = 10)"
   ]
  }
 ],
 "metadata": {
  "language_info": {
   "name": "python"
  },
  "orig_nbformat": 4
 },
 "nbformat": 4,
 "nbformat_minor": 2
}
