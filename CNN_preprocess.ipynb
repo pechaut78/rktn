{
 "cells": [
  {
   "cell_type": "markdown",
   "metadata": {},
   "source": [
    "A refaire"
   ]
  },
  {
   "cell_type": "code",
   "execution_count": null,
   "metadata": {},
   "outputs": [
    {
     "name": "stderr",
     "output_type": "stream",
     "text": [
      "2023-09-08 16:57:03.668010: I tensorflow/core/util/port.cc:110] oneDNN custom operations are on. You may see slightly different numerical results due to floating-point round-off errors from different computation orders. To turn them off, set the environment variable `TF_ENABLE_ONEDNN_OPTS=0`.\n",
      "2023-09-08 16:57:03.701925: I tensorflow/core/platform/cpu_feature_guard.cc:182] This TensorFlow binary is optimized to use available CPU instructions in performance-critical operations.\n",
      "To enable the following instructions: AVX2 AVX512F AVX512_VNNI FMA, in other operations, rebuild TensorFlow with the appropriate compiler flags.\n",
      "2023-09-08 16:57:04.208231: W tensorflow/compiler/tf2tensorrt/utils/py_utils.cc:38] TF-TRT Warning: Could not find TensorRT\n"
     ]
    }
   ],
   "source": [
    "import numpy as np\n",
    "import pandas as pd\n",
    "\n",
    "\n",
    "\n",
    "from tensorflow.keras import Sequential\n",
    "from tensorflow.keras.layers import Dense, Dropout, Flatten, Conv2D, GlobalAveragePooling2D, MaxPooling2D\n",
    "from tensorflow.keras.optimizers import Adam,Adagrad\n",
    "\n",
    "from keras.applications.vgg16 import VGG16\n",
    "from keras.applications import VGG19\n",
    "from keras.applications import EfficientNetB0\n",
    "\n",
    "\n",
    "\n",
    "\n",
    "from tensorflow.keras.applications.vgg16 import preprocess_input\n",
    "import tensorflow as tf\n",
    "from RktnChallenge.RktnModel import ModelTrainer\n",
    "\n",
    "\n",
    "\n",
    "#for original,duplicate,_,_ in duplicates:    \n",
    "#    trainer.data = trainer.data.drop(trainer#.data[trainer.data['productid'] == int(original)].index)\n",
    "#    trainer.data = trainer.data.drop(trainer.data[trainer.data['productid'] == int(duplicate)].index)\n",
    "    \n",
    "import os     \n",
    "from sklearn.preprocessing import MinMaxScaler\n",
    "#get file length\n",
    "import gzip\n",
    "import io\n",
    "from PIL import Image\n"
   ]
  },
  {
   "cell_type": "code",
   "execution_count": null,
   "metadata": {},
   "outputs": [],
   "source": [
    "PATH = \"images/crop100/image_train/\"\n",
    "img_size = 100\n",
    "depth = 3\n",
    "\n",
    "preprocessing_function = tf.keras.applications.vgg16.preprocess_input\n",
    "trainer = ModelTrainer(\"data.csv\",PATH)\n",
    "trainer.loadData(PATH=PATH,imgsize=100,batchsize=32,aumgentImages=False,\n",
    "                preprocessing_function=preprocessing_function,customized_data=True,data=df_copy,)\n",
    "\n",
    "print(len(trainer.dataLoader.data_train))"
   ]
  },
  {
   "cell_type": "code",
   "execution_count": null,
   "metadata": {},
   "outputs": [],
   "source": [
    "net = None\n",
    "def build_model():\n",
    "    input = tf.keras.Input(shape=(img_size,img_size,3))\n",
    "    net = VGG19(weights='imagenet', include_top=False,input_tensor = input) \n",
    "\n",
    "\n",
    "\n",
    "    for layer in net.layers[:-2]:\n",
    "        layer.trainable = False\n",
    "        \n",
    "    gap = tf.keras.layers.GlobalAveragePooling2D()(net.output)\n",
    "    norm2 = tf.keras.layers.BatchNormalization()(gap)\n",
    "\n",
    "    dense1 = tf.keras.layers.Dense(512, activation='relu')(norm2)\n",
    "    dropout1 = tf.keras.layers.Dropout(0.3)(dense1)\n",
    "\n",
    "    dense2 = tf.keras.layers.Dense(124, activation='relu')(dropout1)\n",
    "    dropout2 = tf.keras.layers.Dropout(0.3)(dense2)\n",
    "\n",
    "    output = tf.keras.layers.Dense(num_categories, activation='softmax')(dropout2)\n",
    "\n",
    "\n",
    "\n",
    "\n",
    "    base_model = tf.keras.Model(net.input, outputs = output)\n",
    "    base_model.compile(loss=['categorical_crossentropy'], optimizer=Adam(learning_rate=0.001), metrics=['accuracy'])\n",
    "    return base_model\n",
    "\n",
    "\n",
    "model = build_model()\n",
    "\n",
    "    "
   ]
  },
  {
   "cell_type": "code",
   "execution_count": null,
   "metadata": {},
   "outputs": [],
   "source": [
    "trainer.train(model=model, epochs = 10)"
   ]
  }
 ],
 "metadata": {
  "kernelspec": {
   "display_name": "tfGPU",
   "language": "python",
   "name": "python3"
  },
  "language_info": {
   "codemirror_mode": {
    "name": "ipython",
    "version": 3
   },
   "file_extension": ".py",
   "mimetype": "text/x-python",
   "name": "python",
   "nbconvert_exporter": "python",
   "pygments_lexer": "ipython3",
   "version": "3.9.17"
  },
  "orig_nbformat": 4
 },
 "nbformat": 4,
 "nbformat_minor": 2
}
